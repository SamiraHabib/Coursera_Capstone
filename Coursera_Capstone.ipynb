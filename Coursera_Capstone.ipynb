{
  "nbformat": 4,
  "nbformat_minor": 0,
  "metadata": {
    "colab": {
      "name": "Coursera_Capstone.ipynb",
      "provenance": [],
      "authorship_tag": "ABX9TyMtr7Tcju6Ey/Mn0xejHDPM",
      "include_colab_link": true
    },
    "kernelspec": {
      "name": "python3",
      "display_name": "Python 3"
    },
    "language_info": {
      "name": "python"
    }
  },
  "cells": [
    {
      "cell_type": "markdown",
      "metadata": {
        "id": "view-in-github",
        "colab_type": "text"
      },
      "source": [
        "<a href=\"https://colab.research.google.com/github/SamiraHabib/Coursera_Capstone/blob/main/Coursera_Capstone.ipynb\" target=\"_parent\"><img src=\"https://colab.research.google.com/assets/colab-badge.svg\" alt=\"Open In Colab\"/></a>"
      ]
    },
    {
      "cell_type": "markdown",
      "metadata": {
        "id": "oI10tQcfu2P-"
      },
      "source": [
        "# Coursera Capstone #"
      ]
    },
    {
      "cell_type": "markdown",
      "metadata": {
        "id": "YPHQ2w3NV-qO"
      },
      "source": [
        "# Importando as bibliotecas #"
      ]
    },
    {
      "cell_type": "code",
      "metadata": {
        "id": "XOqw-pp0MMeY",
        "colab": {
          "base_uri": "https://localhost:8080/"
        },
        "outputId": "67ec06a4-283b-4730-9ce4-4c866a157616"
      },
      "source": [
        "import requests # library to handle requests\n",
        "import pandas as pd # library for data analsysis\n",
        "import numpy as np # library to handle data in a vectorized manner\n",
        "import random # library for random number generation\n",
        "\n",
        "\n",
        "!pip install geopy\n",
        "from geopy.geocoders import Nominatim # module to convert an address into latitude and longitude values\n",
        "\n",
        "# libraries for displaying images\n",
        "from IPython.display import Image \n",
        "from IPython.core.display import HTML \n",
        "    \n",
        "# tranforming json file into a pandas dataframe library\n",
        "from pandas.io.json import json_normalize\n",
        "\n",
        "\n",
        "! pip install folium==0.5.0\n",
        "import folium # plotting library\n",
        "\n",
        "print('Folium installed')\n",
        "print('Libraries imported.')"
      ],
      "execution_count": 61,
      "outputs": [
        {
          "output_type": "stream",
          "text": [
            "Requirement already satisfied: geopy in /usr/local/lib/python3.7/dist-packages (1.17.0)\n",
            "Requirement already satisfied: geographiclib<2,>=1.49 in /usr/local/lib/python3.7/dist-packages (from geopy) (1.50)\n",
            "Requirement already satisfied: folium==0.5.0 in /usr/local/lib/python3.7/dist-packages (0.5.0)\n",
            "Requirement already satisfied: requests in /usr/local/lib/python3.7/dist-packages (from folium==0.5.0) (2.23.0)\n",
            "Requirement already satisfied: jinja2 in /usr/local/lib/python3.7/dist-packages (from folium==0.5.0) (2.11.3)\n",
            "Requirement already satisfied: branca in /usr/local/lib/python3.7/dist-packages (from folium==0.5.0) (0.4.2)\n",
            "Requirement already satisfied: six in /usr/local/lib/python3.7/dist-packages (from folium==0.5.0) (1.15.0)\n",
            "Requirement already satisfied: idna<3,>=2.5 in /usr/local/lib/python3.7/dist-packages (from requests->folium==0.5.0) (2.10)\n",
            "Requirement already satisfied: certifi>=2017.4.17 in /usr/local/lib/python3.7/dist-packages (from requests->folium==0.5.0) (2020.12.5)\n",
            "Requirement already satisfied: urllib3!=1.25.0,!=1.25.1,<1.26,>=1.21.1 in /usr/local/lib/python3.7/dist-packages (from requests->folium==0.5.0) (1.24.3)\n",
            "Requirement already satisfied: chardet<4,>=3.0.2 in /usr/local/lib/python3.7/dist-packages (from requests->folium==0.5.0) (3.0.4)\n",
            "Requirement already satisfied: MarkupSafe>=0.23 in /usr/local/lib/python3.7/dist-packages (from jinja2->folium==0.5.0) (1.1.1)\n",
            "Folium installed\n",
            "Libraries imported.\n"
          ],
          "name": "stdout"
        }
      ]
    },
    {
      "cell_type": "markdown",
      "metadata": {
        "id": "DrlfDb9oWOd3"
      },
      "source": [
        "# Definição das credenciais e version do Foursquare #"
      ]
    },
    {
      "cell_type": "code",
      "metadata": {
        "id": "AaW7DAFBNMdi",
        "colab": {
          "base_uri": "https://localhost:8080/"
        },
        "outputId": "f6691510-0a8d-4ee4-c66f-578854d1ac0e"
      },
      "source": [
        "CLIENT_ID = '1LFBJCCEY1TSE4R1J4Y2MX5PZMPVS4O4IFXTHHCQQMYT53SA' # your Foursquare ID\n",
        "CLIENT_SECRET = 'ZL54S51I5OLJWENEGTRHCTKLYQ21GIRDXWCLZUMYS24J4J2D' # your Foursquare Secret\n",
        "ACCESS_TOKEN = '' # your FourSquare Access Token\n",
        "VERSION = '20180604'\n",
        "LIMIT = 50\n",
        "print('Your credentails:')\n",
        "print('CLIENT_ID: ' + CLIENT_ID)\n",
        "print('CLIENT_SECRET:' + CLIENT_SECRET)"
      ],
      "execution_count": 62,
      "outputs": [
        {
          "output_type": "stream",
          "text": [
            "Your credentails:\n",
            "CLIENT_ID: 1LFBJCCEY1TSE4R1J4Y2MX5PZMPVS4O4IFXTHHCQQMYT53SA\n",
            "CLIENT_SECRET:ZL54S51I5OLJWENEGTRHCTKLYQ21GIRDXWCLZUMYS24J4J2D\n"
          ],
          "name": "stdout"
        }
      ]
    },
    {
      "cell_type": "markdown",
      "metadata": {
        "id": "gn60gvxuWbYi"
      },
      "source": [
        "# Endereço do local escolhido #"
      ]
    },
    {
      "cell_type": "code",
      "metadata": {
        "id": "bICw6dNgSO05",
        "colab": {
          "base_uri": "https://localhost:8080/"
        },
        "outputId": "ae8dbb4c-d77b-48fb-e8eb-1c8d82e00259"
      },
      "source": [
        "#Exemplo - alterar\n",
        "address = 'Rio de Janeiro, RJ'\n",
        "\n",
        "geolocator = Nominatim(user_agent=\"foursquare_agent\")\n",
        "location = geolocator.geocode(address)\n",
        "latitude = location.latitude\n",
        "longitude = location.longitude\n",
        "print(latitude, longitude)"
      ],
      "execution_count": 184,
      "outputs": [
        {
          "output_type": "stream",
          "text": [
            "-22.9110137 -43.2093727\n"
          ],
          "name": "stdout"
        }
      ]
    },
    {
      "cell_type": "markdown",
      "metadata": {
        "id": "olNeuME9Wo2r"
      },
      "source": [
        "# Localização #"
      ]
    },
    {
      "cell_type": "code",
      "metadata": {
        "id": "kyVXY3TwSU8i"
      },
      "source": [
        "#Localidade exemplo, mudar\n",
        "latitude = -22.9110137\n",
        "longitude = -43.2093727"
      ],
      "execution_count": 154,
      "outputs": []
    },
    {
      "cell_type": "code",
      "metadata": {
        "id": "AnVV7YyQFnp6"
      },
      "source": [
        ""
      ],
      "execution_count": 162,
      "outputs": []
    },
    {
      "cell_type": "markdown",
      "metadata": {
        "id": "C0VTfHIhW12b"
      },
      "source": [
        "# Define URL #"
      ]
    },
    {
      "cell_type": "code",
      "metadata": {
        "colab": {
          "base_uri": "https://localhost:8080/",
          "height": 69
        },
        "id": "dS0eG21LSYwM",
        "outputId": "0098ced1-13eb-414d-95ea-cbe50b172925"
      },
      "source": [
        "search_query = 'colégio'\n",
        "radius = 1500\n",
        "print(search_query + ' .... OK!')\n",
        "url = 'https://api.foursquare.com/v2/venues/search?client_id={}&client_secret={}&ll={},{}&v={}&query={}&radius={}&limit={}'.format(CLIENT_ID, CLIENT_SECRET, latitude, longitude, VERSION, search_query, radius, LIMIT)\n",
        "url"
      ],
      "execution_count": 188,
      "outputs": [
        {
          "output_type": "stream",
          "text": [
            "colégio .... OK!\n"
          ],
          "name": "stdout"
        },
        {
          "output_type": "execute_result",
          "data": {
            "application/vnd.google.colaboratory.intrinsic+json": {
              "type": "string"
            },
            "text/plain": [
              "'https://api.foursquare.com/v2/venues/search?client_id=1LFBJCCEY1TSE4R1J4Y2MX5PZMPVS4O4IFXTHHCQQMYT53SA&client_secret=ZL54S51I5OLJWENEGTRHCTKLYQ21GIRDXWCLZUMYS24J4J2D&ll=-22.9110137,-43.2093727&v=20180604&query=colégio&radius=1500&limit=50'"
            ]
          },
          "metadata": {
            "tags": []
          },
          "execution_count": 188
        }
      ]
    },
    {
      "cell_type": "markdown",
      "metadata": {
        "id": "9e_p6JmSXFks"
      },
      "source": [
        "# Envia uma solicitação GET e examina os resultados #"
      ]
    },
    {
      "cell_type": "code",
      "metadata": {
        "id": "IZ6cFHjSTIIK",
        "colab": {
          "base_uri": "https://localhost:8080/"
        },
        "outputId": "c8d8b27e-a461-4b63-df85-6f852aa48710"
      },
      "source": [
        "import requests\n",
        "results = requests.get(url).json()\n",
        "results"
      ],
      "execution_count": 189,
      "outputs": [
        {
          "output_type": "execute_result",
          "data": {
            "text/plain": [
              "{'meta': {'code': 200, 'requestId': '6081f52ed550647a70cb9a03'},\n",
              " 'response': {'venues': [{'categories': [{'icon': {'prefix': 'https://ss3.4sqi.net/img/categories_v2/education/default_',\n",
              "       'suffix': '.png'},\n",
              "      'id': '52e81612bcbc57f1066b7a46',\n",
              "      'name': 'Private School',\n",
              "      'pluralName': 'Private Schools',\n",
              "      'primary': True,\n",
              "      'shortName': 'Private School'}],\n",
              "    'hasPerk': False,\n",
              "    'id': '4e60f0fb315114bf603f914f',\n",
              "    'location': {'address': 'Tv. Dr. Araújo, 21',\n",
              "     'cc': 'BR',\n",
              "     'city': 'Rio de Janeiro',\n",
              "     'country': 'Brasil',\n",
              "     'distance': 691,\n",
              "     'formattedAddress': ['Tv. Dr. Araújo, 21',\n",
              "      'Rio de Janeiro, RJ',\n",
              "      '20270-070',\n",
              "      'Brasil'],\n",
              "     'labeledLatLngs': [{'label': 'display',\n",
              "       'lat': -22.914814836666505,\n",
              "       'lng': -43.21470669286932}],\n",
              "     'lat': -22.914814836666505,\n",
              "     'lng': -43.21470669286932,\n",
              "     'postalCode': '20270-070',\n",
              "     'state': 'RJ'},\n",
              "    'name': 'CARJ - Colégio Adventista do Rio de Janeiro',\n",
              "    'referralId': 'v-1619129646'},\n",
              "   {'categories': [{'icon': {'prefix': 'https://ss3.4sqi.net/img/categories_v2/education/default_',\n",
              "       'suffix': '.png'},\n",
              "      'id': '52e81612bcbc57f1066b7a46',\n",
              "      'name': 'Private School',\n",
              "      'pluralName': 'Private Schools',\n",
              "      'primary': True,\n",
              "      'shortName': 'Private School'}],\n",
              "    'hasPerk': False,\n",
              "    'id': '4d30474405585941fce35b37',\n",
              "    'location': {'address': 'R. Ibituruna, 37',\n",
              "     'cc': 'BR',\n",
              "     'city': 'Rio de Janeiro',\n",
              "     'country': 'Brasil',\n",
              "     'distance': 1158,\n",
              "     'formattedAddress': ['R. Ibituruna, 37',\n",
              "      'Rio de Janeiro, RJ',\n",
              "      '20271-021',\n",
              "      'Brasil'],\n",
              "     'labeledLatLngs': [{'label': 'display',\n",
              "       'lat': -22.91380204347511,\n",
              "       'lng': -43.22025879090274}],\n",
              "     'lat': -22.91380204347511,\n",
              "     'lng': -43.22025879090274,\n",
              "     'postalCode': '20271-021',\n",
              "     'state': 'RJ'},\n",
              "    'name': 'Colégio Qi',\n",
              "    'referralId': 'v-1619129646'},\n",
              "   {'categories': [{'icon': {'prefix': 'https://ss3.4sqi.net/img/categories_v2/building/school_',\n",
              "       'suffix': '.png'},\n",
              "      'id': '4bf58dd8d48988d13d941735',\n",
              "      'name': 'High School',\n",
              "      'pluralName': 'High Schools',\n",
              "      'primary': True,\n",
              "      'shortName': 'High School'}],\n",
              "    'hasPerk': False,\n",
              "    'id': '4c2b56d0b34ad13a8293e9ce',\n",
              "    'location': {'address': 'R. Prof. Gabizo, 211',\n",
              "     'cc': 'BR',\n",
              "     'city': 'Rio de Janeiro',\n",
              "     'country': 'Brasil',\n",
              "     'distance': 1432,\n",
              "     'formattedAddress': ['R. Prof. Gabizo, 211',\n",
              "      'Rio de Janeiro, RJ',\n",
              "      '20271-064',\n",
              "      'Brasil'],\n",
              "     'labeledLatLngs': [{'label': 'display',\n",
              "       'lat': -22.9178796014997,\n",
              "       'lng': -43.22119109048445}],\n",
              "     'lat': -22.9178796014997,\n",
              "     'lng': -43.22119109048445,\n",
              "     'postalCode': '20271-064',\n",
              "     'state': 'RJ'},\n",
              "    'name': 'Colégio e Curso pH',\n",
              "    'referralId': 'v-1619129646'},\n",
              "   {'categories': [{'icon': {'prefix': 'https://ss3.4sqi.net/img/categories_v2/education/default_',\n",
              "       'suffix': '.png'},\n",
              "      'id': '52e81612bcbc57f1066b7a46',\n",
              "      'name': 'Private School',\n",
              "      'pluralName': 'Private Schools',\n",
              "      'primary': True,\n",
              "      'shortName': 'Private School'}],\n",
              "    'hasPerk': False,\n",
              "    'id': '4c7cde823e90a1cda18743be',\n",
              "    'location': {'address': 'R. Ibituruna, 27',\n",
              "     'cc': 'BR',\n",
              "     'city': 'Rio de Janeiro',\n",
              "     'country': 'Brasil',\n",
              "     'crossStreet': 'Unidade Tijuca I',\n",
              "     'distance': 1121,\n",
              "     'formattedAddress': ['R. Ibituruna, 27 (Unidade Tijuca I)',\n",
              "      'Rio de Janeiro, RJ',\n",
              "      '20271-021',\n",
              "      'Brasil'],\n",
              "     'labeledLatLngs': [{'label': 'display',\n",
              "       'lat': -22.91397010219763,\n",
              "       'lng': -43.219828605651855}],\n",
              "     'lat': -22.91397010219763,\n",
              "     'lng': -43.219828605651855,\n",
              "     'postalCode': '20271-021',\n",
              "     'state': 'RJ'},\n",
              "    'name': 'Pensi Colégio e Curso',\n",
              "    'referralId': 'v-1619129646'},\n",
              "   {'categories': [{'icon': {'prefix': 'https://ss3.4sqi.net/img/categories_v2/education/default_',\n",
              "       'suffix': '.png'},\n",
              "      'id': '4bf58dd8d48988d1ae941735',\n",
              "      'name': 'University',\n",
              "      'pluralName': 'Universities',\n",
              "      'primary': True,\n",
              "      'shortName': 'University'}],\n",
              "    'hasPerk': False,\n",
              "    'id': '53e9e823498ecddee79da976',\n",
              "    'location': {'address': 'Tijuca',\n",
              "     'cc': 'BR',\n",
              "     'city': 'Rio de Janeiro',\n",
              "     'country': 'Brasil',\n",
              "     'distance': 751,\n",
              "     'formattedAddress': ['Tijuca', 'Rio de Janeiro, RJ', 'Brasil'],\n",
              "     'labeledLatLngs': [{'label': 'display',\n",
              "       'lat': -22.90520668029785,\n",
              "       'lng': -43.205631256103516}],\n",
              "     'lat': -22.90520668029785,\n",
              "     'lng': -43.205631256103516,\n",
              "     'state': 'RJ'},\n",
              "    'name': 'Colegio e curso superior',\n",
              "    'referralId': 'v-1619129646'},\n",
              "   {'categories': [{'icon': {'prefix': 'https://ss3.4sqi.net/img/categories_v2/education/other_',\n",
              "       'suffix': '.png'},\n",
              "      'id': '4bf58dd8d48988d1a8941735',\n",
              "      'name': 'General College & University',\n",
              "      'pluralName': 'General Colleges & Universities',\n",
              "      'primary': True,\n",
              "      'shortName': 'Education'}],\n",
              "    'hasPerk': False,\n",
              "    'id': '4ca8bfd0b7106dcbc1ab75a5',\n",
              "    'location': {'address': 'Rua Aristides Lobo, 46',\n",
              "     'cc': 'BR',\n",
              "     'city': 'Rio de Janeiro',\n",
              "     'country': 'Brasil',\n",
              "     'distance': 783,\n",
              "     'formattedAddress': ['Rua Aristides Lobo, 46',\n",
              "      'Rio de Janeiro, RJ',\n",
              "      'Brasil'],\n",
              "     'labeledLatLngs': [{'label': 'display',\n",
              "       'lat': -22.918052185129888,\n",
              "       'lng': -43.20945187964974}],\n",
              "     'lat': -22.918052185129888,\n",
              "     'lng': -43.20945187964974,\n",
              "     'state': 'RJ'},\n",
              "    'name': 'Colégio Guanabarense',\n",
              "    'referralId': 'v-1619129646'},\n",
              "   {'categories': [{'icon': {'prefix': 'https://ss3.4sqi.net/img/categories_v2/building/school_',\n",
              "       'suffix': '.png'},\n",
              "      'id': '4bf58dd8d48988d13b941735',\n",
              "      'name': 'School',\n",
              "      'pluralName': 'Schools',\n",
              "      'primary': True,\n",
              "      'shortName': 'School'}],\n",
              "    'hasPerk': False,\n",
              "    'id': '5895d3afd7b4732925b68b2e',\n",
              "    'location': {'address': 'Rua Senador Furtado',\n",
              "     'cc': 'BR',\n",
              "     'city': 'Rio de Janeiro',\n",
              "     'country': 'Brasil',\n",
              "     'distance': 971,\n",
              "     'formattedAddress': ['Rua Senador Furtado',\n",
              "      'Rio de Janeiro, RJ',\n",
              "      '20270-021',\n",
              "      'Brasil'],\n",
              "     'labeledLatLngs': [{'label': 'display',\n",
              "       'lat': -22.911674910585628,\n",
              "       'lng': -43.21881539160201}],\n",
              "     'lat': -22.911674910585628,\n",
              "     'lng': -43.21881539160201,\n",
              "     'postalCode': '20270-021',\n",
              "     'state': 'RJ'},\n",
              "    'name': 'Colégio Curso SEI',\n",
              "    'referralId': 'v-1619129646'},\n",
              "   {'categories': [{'icon': {'prefix': 'https://ss3.4sqi.net/img/categories_v2/education/studentcenter_',\n",
              "       'suffix': '.png'},\n",
              "      'id': '4bf58dd8d48988d1ab941735',\n",
              "      'name': 'Student Center',\n",
              "      'pluralName': 'Student Centers',\n",
              "      'primary': True,\n",
              "      'shortName': 'Student Center'}],\n",
              "    'hasPerk': False,\n",
              "    'id': '4fc4ba7fe4b084616fe44cf0',\n",
              "    'location': {'cc': 'BR',\n",
              "     'country': 'Brasil',\n",
              "     'distance': 1025,\n",
              "     'formattedAddress': ['Brasil'],\n",
              "     'labeledLatLngs': [{'label': 'display',\n",
              "       'lat': -22.920200428520975,\n",
              "       'lng': -43.20868647896886}],\n",
              "     'lat': -22.920200428520975,\n",
              "     'lng': -43.20868647896886},\n",
              "    'name': 'colégio barbara Otoni',\n",
              "    'referralId': 'v-1619129646'},\n",
              "   {'categories': [{'icon': {'prefix': 'https://ss3.4sqi.net/img/categories_v2/building/school_',\n",
              "       'suffix': '.png'},\n",
              "      'id': '4bf58dd8d48988d13b941735',\n",
              "      'name': 'School',\n",
              "      'pluralName': 'Schools',\n",
              "      'primary': True,\n",
              "      'shortName': 'School'}],\n",
              "    'hasPerk': False,\n",
              "    'id': '4df3dc3e62e1288ed3059bf0',\n",
              "    'location': {'address': 'R. Haddock Lobo',\n",
              "     'cc': 'BR',\n",
              "     'city': 'Rio de Janeiro',\n",
              "     'country': 'Brasil',\n",
              "     'distance': 1098,\n",
              "     'formattedAddress': ['R. Haddock Lobo',\n",
              "      'Rio de Janeiro, RJ',\n",
              "      '20260-142',\n",
              "      'Brasil'],\n",
              "     'labeledLatLngs': [{'label': 'display',\n",
              "       'lat': -22.920017484779137,\n",
              "       'lng': -43.21374844726976}],\n",
              "     'lat': -22.920017484779137,\n",
              "     'lng': -43.21374844726976,\n",
              "     'postalCode': '20260-142',\n",
              "     'state': 'RJ'},\n",
              "    'name': 'Colégio Maria Raythe',\n",
              "    'referralId': 'v-1619129646'},\n",
              "   {'categories': [{'icon': {'prefix': 'https://ss3.4sqi.net/img/categories_v2/education/default_',\n",
              "       'suffix': '.png'},\n",
              "      'id': '52e81612bcbc57f1066b7a46',\n",
              "      'name': 'Private School',\n",
              "      'pluralName': 'Private Schools',\n",
              "      'primary': True,\n",
              "      'shortName': 'Private School'}],\n",
              "    'hasPerk': False,\n",
              "    'id': '56b20d4638fa948b56fe34b1',\n",
              "    'location': {'address': 'R. Pardal Mallet, 26',\n",
              "     'cc': 'BR',\n",
              "     'city': 'Rio de Janeiro',\n",
              "     'country': 'Brasil',\n",
              "     'distance': 1163,\n",
              "     'formattedAddress': ['R. Pardal Mallet, 26',\n",
              "      'Rio de Janeiro, RJ',\n",
              "      '20270-280',\n",
              "      'Brasil'],\n",
              "     'labeledLatLngs': [{'label': 'display',\n",
              "       'lat': -22.915883037835812,\n",
              "       'lng': -43.21941016516487}],\n",
              "     'lat': -22.915883037835812,\n",
              "     'lng': -43.21941016516487,\n",
              "     'postalCode': '20270-280',\n",
              "     'state': 'RJ'},\n",
              "    'name': 'Colégio Modelo GPI',\n",
              "    'referralId': 'v-1619129646'},\n",
              "   {'categories': [{'icon': {'prefix': 'https://ss3.4sqi.net/img/categories_v2/education/administrativebuilding_',\n",
              "       'suffix': '.png'},\n",
              "      'id': '4bf58dd8d48988d197941735',\n",
              "      'name': 'College Administrative Building',\n",
              "      'pluralName': 'College Administrative Buildings',\n",
              "      'primary': True,\n",
              "      'shortName': 'Administrative Building'}],\n",
              "    'hasPerk': False,\n",
              "    'id': '53650bd3498eb12aad8f27c4',\n",
              "    'location': {'cc': 'BR',\n",
              "     'country': 'Brasil',\n",
              "     'distance': 1255,\n",
              "     'formattedAddress': ['Brasil'],\n",
              "     'labeledLatLngs': [{'label': 'display',\n",
              "       'lat': -22.915134717346998,\n",
              "       'lng': -43.22077113937203}],\n",
              "     'lat': -22.915134717346998,\n",
              "     'lng': -43.22077113937203},\n",
              "    'name': 'Colégio Bezerra de Araújo',\n",
              "    'referralId': 'v-1619129646'},\n",
              "   {'categories': [{'icon': {'prefix': 'https://ss3.4sqi.net/img/categories_v2/education/studentcenter_',\n",
              "       'suffix': '.png'},\n",
              "      'id': '4bf58dd8d48988d1ab941735',\n",
              "      'name': 'Student Center',\n",
              "      'pluralName': 'Student Centers',\n",
              "      'primary': True,\n",
              "      'shortName': 'Student Center'}],\n",
              "    'hasPerk': False,\n",
              "    'id': '4d6ef34f35993704e48e069d',\n",
              "    'location': {'address': 'Mariz e Barros, 420',\n",
              "     'cc': 'BR',\n",
              "     'city': 'Rio de Janeiro',\n",
              "     'country': 'Brasil',\n",
              "     'distance': 1118,\n",
              "     'formattedAddress': ['Mariz e Barros, 420',\n",
              "      'Rio de Janeiro, RJ',\n",
              "      'Brasil'],\n",
              "     'labeledLatLngs': [{'label': 'display',\n",
              "       'lat': -22.91636033603943,\n",
              "       'lng': -43.2186064986142}],\n",
              "     'lat': -22.91636033603943,\n",
              "     'lng': -43.2186064986142,\n",
              "     'state': 'RJ'},\n",
              "    'name': 'Colégio Miguel Couto - Unidade Tijuca',\n",
              "    'referralId': 'v-1619129646'},\n",
              "   {'categories': [{'icon': {'prefix': 'https://ss3.4sqi.net/img/categories_v2/education/classroom_',\n",
              "       'suffix': '.png'},\n",
              "      'id': '4bf58dd8d48988d1a0941735',\n",
              "      'name': 'College Classroom',\n",
              "      'pluralName': 'College Classrooms',\n",
              "      'primary': True,\n",
              "      'shortName': 'Classroom'}],\n",
              "    'hasPerk': False,\n",
              "    'id': '4d90daa11716a143b29b6bf7',\n",
              "    'location': {'cc': 'BR',\n",
              "     'country': 'Brasil',\n",
              "     'distance': 1509,\n",
              "     'formattedAddress': ['Brasil'],\n",
              "     'labeledLatLngs': [{'label': 'display',\n",
              "       'lat': -22.91375122646189,\n",
              "       'lng': -43.223787587564914}],\n",
              "     'lat': -22.91375122646189,\n",
              "     'lng': -43.223787587564914},\n",
              "    'name': 'Colégio Graham Bell',\n",
              "    'referralId': 'v-1619129646'},\n",
              "   {'categories': [],\n",
              "    'hasPerk': False,\n",
              "    'id': '4ded1e197d8ba3b6f34ec507',\n",
              "    'location': {'cc': 'BR',\n",
              "     'city': 'Rio de Janeiro',\n",
              "     'country': 'Brasil',\n",
              "     'distance': 1375,\n",
              "     'formattedAddress': ['Rio de Janeiro, RJ', 'Brasil'],\n",
              "     'labeledLatLngs': [{'label': 'display',\n",
              "       'lat': -22.92337,\n",
              "       'lng': -43.20969}],\n",
              "     'lat': -22.92337,\n",
              "     'lng': -43.20969,\n",
              "     'state': 'RJ'},\n",
              "    'name': \"Colegio L'Hermitage RJ\",\n",
              "    'referralId': 'v-1619129646'},\n",
              "   {'categories': [{'icon': {'prefix': 'https://ss3.4sqi.net/img/categories_v2/education/default_',\n",
              "       'suffix': '.png'},\n",
              "      'id': '52e81612bcbc57f1066b7a46',\n",
              "      'name': 'Private School',\n",
              "      'pluralName': 'Private Schools',\n",
              "      'primary': True,\n",
              "      'shortName': 'Private School'}],\n",
              "    'hasPerk': False,\n",
              "    'id': '53e352c3498eff39f4c0629d',\n",
              "    'location': {'cc': 'BR',\n",
              "     'country': 'Brasil',\n",
              "     'distance': 1314,\n",
              "     'formattedAddress': ['Brasil'],\n",
              "     'labeledLatLngs': [{'label': 'display',\n",
              "       'lat': -22.922770041596845,\n",
              "       'lng': -43.21053457564875}],\n",
              "     'lat': -22.922770041596845,\n",
              "     'lng': -43.21053457564875},\n",
              "    'name': 'Colégio Sagres',\n",
              "    'referralId': 'v-1619129646'},\n",
              "   {'categories': [{'icon': {'prefix': 'https://ss3.4sqi.net/img/categories_v2/building/school_',\n",
              "       'suffix': '.png'},\n",
              "      'id': '4bf58dd8d48988d13b941735',\n",
              "      'name': 'School',\n",
              "      'pluralName': 'Schools',\n",
              "      'primary': True,\n",
              "      'shortName': 'School'}],\n",
              "    'hasPerk': False,\n",
              "    'id': '50bb9ff4e4b03b79be23f66b',\n",
              "    'location': {'cc': 'BR',\n",
              "     'country': 'Brasil',\n",
              "     'distance': 1433,\n",
              "     'formattedAddress': ['Brasil'],\n",
              "     'labeledLatLngs': [{'label': 'display', 'lat': -22.9228, 'lng': -43.215}],\n",
              "     'lat': -22.9228,\n",
              "     'lng': -43.215},\n",
              "    'name': 'Colégio Estadual Hebert de Souza',\n",
              "    'referralId': 'v-1619129646'},\n",
              "   {'categories': [],\n",
              "    'hasPerk': False,\n",
              "    'id': '4e64c62db0fb188e8eae5a21',\n",
              "    'location': {'cc': 'BR',\n",
              "     'country': 'Brasil',\n",
              "     'distance': 1447,\n",
              "     'formattedAddress': ['Brasil'],\n",
              "     'labeledLatLngs': [{'label': 'display',\n",
              "       'lat': -22.92115,\n",
              "       'lng': -43.21822}],\n",
              "     'lat': -22.92115,\n",
              "     'lng': -43.21822},\n",
              "    'name': 'Colegio Van Gogh',\n",
              "    'referralId': 'v-1619129646'},\n",
              "   {'categories': [{'icon': {'prefix': 'https://ss3.4sqi.net/img/categories_v2/building/school_',\n",
              "       'suffix': '.png'},\n",
              "      'id': '4f4533814b9074f6e4fb0106',\n",
              "      'name': 'Middle School',\n",
              "      'pluralName': 'Middle Schools',\n",
              "      'primary': True,\n",
              "      'shortName': 'Middle School'}],\n",
              "    'hasPerk': False,\n",
              "    'id': '51128771e4b062fc93ea7d69',\n",
              "    'location': {'address': 'Heitor Castelo Branco',\n",
              "     'cc': 'BR',\n",
              "     'country': 'Brasil',\n",
              "     'distance': 1503,\n",
              "     'formattedAddress': ['Heitor Castelo Branco', 'Brasil'],\n",
              "     'labeledLatLngs': [{'label': 'display',\n",
              "       'lat': -22.89763832092285,\n",
              "       'lng': -43.21142578125}],\n",
              "     'lat': -22.89763832092285,\n",
              "     'lng': -43.21142578125},\n",
              "    'name': \"Colégio Mérito D' Martonne\",\n",
              "    'referralId': 'v-1619129646'},\n",
              "   {'categories': [{'icon': {'prefix': 'https://ss3.4sqi.net/img/categories_v2/arts_entertainment/default_',\n",
              "       'suffix': '.png'},\n",
              "      'id': '4bf58dd8d48988d199941735',\n",
              "      'name': 'College Arts Building',\n",
              "      'pluralName': 'College Arts Buildings',\n",
              "      'primary': True,\n",
              "      'shortName': 'Arts'}],\n",
              "    'hasPerk': False,\n",
              "    'id': '4fcc09b3e4b09e8af89ce3f7',\n",
              "    'location': {'address': 'Rua Barão De Itapagipe, 311',\n",
              "     'cc': 'BR',\n",
              "     'city': 'Rio de Janeiro',\n",
              "     'country': 'Brasil',\n",
              "     'crossStreet': 'Rua Do Bispo',\n",
              "     'distance': 1424,\n",
              "     'formattedAddress': ['Rua Barão De Itapagipe, 311 (Rua Do Bispo)',\n",
              "      'Rio de Janeiro, RJ',\n",
              "      'Brasil'],\n",
              "     'labeledLatLngs': [{'label': 'display',\n",
              "       'lat': -22.92266406395974,\n",
              "       'lng': -43.215128526848616}],\n",
              "     'lat': -22.92266406395974,\n",
              "     'lng': -43.215128526848616,\n",
              "     'state': 'RJ'},\n",
              "    'name': 'Colégio Estadual Herbert De Souza',\n",
              "    'referralId': 'v-1619129646'},\n",
              "   {'categories': [{'icon': {'prefix': 'https://ss3.4sqi.net/img/categories_v2/building/school_',\n",
              "       'suffix': '.png'},\n",
              "      'id': '4bf58dd8d48988d13d941735',\n",
              "      'name': 'High School',\n",
              "      'pluralName': 'High Schools',\n",
              "      'primary': True,\n",
              "      'shortName': 'High School'}],\n",
              "    'hasPerk': False,\n",
              "    'id': '50fc121c8aca2511ba8b8bad',\n",
              "    'location': {'address': 'PRAÇA DE FRONTIN',\n",
              "     'cc': 'BR',\n",
              "     'city': 'Rio de Janeiro',\n",
              "     'country': 'Brasil',\n",
              "     'crossStreet': 'PRAÇA DE FRONTIN Nº45',\n",
              "     'distance': 1559,\n",
              "     'formattedAddress': ['PRAÇA DE FRONTIN (PRAÇA DE FRONTIN Nº45)',\n",
              "      'Rio de Janeiro, RJ',\n",
              "      '20261-190',\n",
              "      'Brasil'],\n",
              "     'labeledLatLngs': [{'label': 'display',\n",
              "       'lat': -22.925017983860066,\n",
              "       'lng': -43.209571838378906}],\n",
              "     'lat': -22.925017983860066,\n",
              "     'lng': -43.209571838378906,\n",
              "     'postalCode': '20261-190',\n",
              "     'state': 'RJ'},\n",
              "    'name': 'COLÉGIO PREIRA PASSOS',\n",
              "    'referralId': 'v-1619129646'},\n",
              "   {'categories': [{'icon': {'prefix': 'https://ss3.4sqi.net/img/categories_v2/building/school_',\n",
              "       'suffix': '.png'},\n",
              "      'id': '4bf58dd8d48988d13d941735',\n",
              "      'name': 'High School',\n",
              "      'pluralName': 'High Schools',\n",
              "      'primary': True,\n",
              "      'shortName': 'High School'}],\n",
              "    'hasPerk': False,\n",
              "    'id': '5001c438e4b0bfb883bf4f2a',\n",
              "    'location': {'address': 'Rua General Canabarro, 536',\n",
              "     'cc': 'BR',\n",
              "     'city': 'Rio de Janeiro',\n",
              "     'country': 'Brasil',\n",
              "     'distance': 1502,\n",
              "     'formattedAddress': ['Rua General Canabarro, 536',\n",
              "      'Rio de Janeiro, RJ',\n",
              "      '20271-201',\n",
              "      'Brasil'],\n",
              "     'labeledLatLngs': [{'label': 'display',\n",
              "       'lat': -22.91243989551876,\n",
              "       'lng': -43.22394719680344}],\n",
              "     'lat': -22.91243989551876,\n",
              "     'lng': -43.22394719680344,\n",
              "     'postalCode': '20271-201',\n",
              "     'state': 'RJ'},\n",
              "    'name': 'Colégio 1º De Maio',\n",
              "    'referralId': 'v-1619129646'},\n",
              "   {'categories': [{'icon': {'prefix': 'https://ss3.4sqi.net/img/categories_v2/building/school_',\n",
              "       'suffix': '.png'},\n",
              "      'id': '4bf58dd8d48988d13d941735',\n",
              "      'name': 'High School',\n",
              "      'pluralName': 'High Schools',\n",
              "      'primary': True,\n",
              "      'shortName': 'High School'}],\n",
              "    'hasPerk': False,\n",
              "    'id': '51324450e4b006d9cdf91842',\n",
              "    'location': {'cc': 'BR',\n",
              "     'country': 'Brasil',\n",
              "     'distance': 1494,\n",
              "     'formattedAddress': ['Brasil'],\n",
              "     'labeledLatLngs': [{'label': 'display',\n",
              "       'lat': -22.912402379887606,\n",
              "       'lng': -43.223874691422154}],\n",
              "     'lat': -22.912402379887606,\n",
              "     'lng': -43.223874691422154},\n",
              "    'name': 'Colegio Primeiro De Maio',\n",
              "    'referralId': 'v-1619129646'},\n",
              "   {'categories': [{'icon': {'prefix': 'https://ss3.4sqi.net/img/categories_v2/education/academicbuilding_',\n",
              "       'suffix': '.png'},\n",
              "      'id': '4bf58dd8d48988d198941735',\n",
              "      'name': 'College Academic Building',\n",
              "      'pluralName': 'College Academic Buildings',\n",
              "      'primary': True,\n",
              "      'shortName': 'Academic Building'}],\n",
              "    'hasPerk': False,\n",
              "    'id': '4ca8c149b0b8236a6aa5b6e6',\n",
              "    'location': {'address': 'R. Antônio H. de Noronha, 2',\n",
              "     'cc': 'BR',\n",
              "     'city': 'Rio de Janeiro',\n",
              "     'country': 'Brasil',\n",
              "     'distance': 1763,\n",
              "     'formattedAddress': ['R. Antônio H. de Noronha, 2',\n",
              "      'Rio de Janeiro, RJ',\n",
              "      '20910-000',\n",
              "      'Brasil'],\n",
              "     'labeledLatLngs': [{'label': 'display',\n",
              "       'lat': -22.901077320832602,\n",
              "       'lng': -43.222769703343936}],\n",
              "     'lat': -22.901077320832602,\n",
              "     'lng': -43.222769703343936,\n",
              "     'postalCode': '20910-000',\n",
              "     'state': 'RJ'},\n",
              "    'name': 'Colégio Brasileiro de São Cristovão',\n",
              "    'referralId': 'v-1619129646'},\n",
              "   {'categories': [{'icon': {'prefix': 'https://ss3.4sqi.net/img/categories_v2/education/default_',\n",
              "       'suffix': '.png'},\n",
              "      'id': '52e81612bcbc57f1066b7a46',\n",
              "      'name': 'Private School',\n",
              "      'pluralName': 'Private Schools',\n",
              "      'primary': True,\n",
              "      'shortName': 'Private School'}],\n",
              "    'hasPerk': False,\n",
              "    'id': '50febc9ae4b07787e8c58623',\n",
              "    'location': {'address': 'R. Campos Sales, 135',\n",
              "     'cc': 'BR',\n",
              "     'city': 'Rio de Janeiro',\n",
              "     'country': 'Brasil',\n",
              "     'distance': 1076,\n",
              "     'formattedAddress': ['R. Campos Sales, 135',\n",
              "      'Rio de Janeiro, RJ',\n",
              "      '20720-215',\n",
              "      'Brasil'],\n",
              "     'labeledLatLngs': [{'label': 'display',\n",
              "       'lat': -22.914938924885625,\n",
              "       'lng': -43.218969638450716}],\n",
              "     'lat': -22.914938924885625,\n",
              "     'lng': -43.218969638450716,\n",
              "     'postalCode': '20720-215',\n",
              "     'state': 'RJ'},\n",
              "    'name': '_A_Z - Colégio e Vestibular de A a Z',\n",
              "    'referralId': 'v-1619129646'},\n",
              "   {'categories': [{'icon': {'prefix': 'https://ss3.4sqi.net/img/categories_v2/education/lab_',\n",
              "       'suffix': '.png'},\n",
              "      'id': '4bf58dd8d48988d1a5941735',\n",
              "      'name': 'College Lab',\n",
              "      'pluralName': 'College Labs',\n",
              "      'primary': True,\n",
              "      'shortName': 'Lab'}],\n",
              "    'hasPerk': False,\n",
              "    'id': '54ca2b38498e64a5514fc669',\n",
              "    'location': {'address': 'Campo de São Cristóvão, 177',\n",
              "     'cc': 'BR',\n",
              "     'city': 'Rio de Janeiro',\n",
              "     'country': 'Brasil',\n",
              "     'distance': 1642,\n",
              "     'formattedAddress': ['Campo de São Cristóvão, 177',\n",
              "      'Rio de Janeiro, RJ',\n",
              "      'Brasil'],\n",
              "     'labeledLatLngs': [{'label': 'display',\n",
              "       'lat': -22.899987269237542,\n",
              "       'lng': -43.22001032152733}],\n",
              "     'lat': -22.899987269237542,\n",
              "     'lng': -43.22001032152733,\n",
              "     'state': 'RJ'},\n",
              "    'name': 'Projeto Área Verde - Colégio Pedro II',\n",
              "    'referralId': 'v-1619129646'},\n",
              "   {'categories': [{'icon': {'prefix': 'https://ss3.4sqi.net/img/categories_v2/building/school_',\n",
              "       'suffix': '.png'},\n",
              "      'id': '4bf58dd8d48988d13b941735',\n",
              "      'name': 'School',\n",
              "      'pluralName': 'Schools',\n",
              "      'primary': True,\n",
              "      'shortName': 'School'}],\n",
              "    'hasPerk': False,\n",
              "    'id': '4d7fa4a2e7e1721e5e52f60b',\n",
              "    'location': {'address': 'R. Mariz e Barros, 273',\n",
              "     'cc': 'BR',\n",
              "     'city': 'Rio de Janeiro',\n",
              "     'country': 'Brasil',\n",
              "     'distance': 728,\n",
              "     'formattedAddress': ['R. Mariz e Barros, 273',\n",
              "      'Rio de Janeiro, RJ',\n",
              "      '20270-003',\n",
              "      'Brasil'],\n",
              "     'labeledLatLngs': [{'label': 'display',\n",
              "       'lat': -22.91291084740261,\n",
              "       'lng': -43.21617008346595}],\n",
              "     'lat': -22.91291084740261,\n",
              "     'lng': -43.21617008346595,\n",
              "     'postalCode': '20270-003',\n",
              "     'state': 'RJ'},\n",
              "    'name': 'CE Antonio Prado Júnior',\n",
              "    'referralId': 'v-1619129646'},\n",
              "   {'categories': [{'icon': {'prefix': 'https://ss3.4sqi.net/img/categories_v2/building/library_',\n",
              "       'suffix': '.png'},\n",
              "      'id': '4bf58dd8d48988d12f941735',\n",
              "      'name': 'Library',\n",
              "      'pluralName': 'Libraries',\n",
              "      'primary': True,\n",
              "      'shortName': 'Library'}],\n",
              "    'hasPerk': False,\n",
              "    'id': '52f90003498ea024d61084d5',\n",
              "    'location': {'address': 'Campo de São Cristóvão',\n",
              "     'cc': 'BR',\n",
              "     'country': 'Brasil',\n",
              "     'distance': 1732,\n",
              "     'formattedAddress': ['Campo de São Cristóvão', 'Brasil'],\n",
              "     'labeledLatLngs': [{'label': 'display',\n",
              "       'lat': -22.89916229248047,\n",
              "       'lng': -43.22031784057617}],\n",
              "     'lat': -22.89916229248047,\n",
              "     'lng': -43.22031784057617},\n",
              "    'name': 'Biblioteca - Colégio Pedro II',\n",
              "    'referralId': 'v-1619129646'},\n",
              "   {'categories': [{'icon': {'prefix': 'https://ss3.4sqi.net/img/categories_v2/building/library_',\n",
              "       'suffix': '.png'},\n",
              "      'id': '4bf58dd8d48988d1a7941735',\n",
              "      'name': 'College Library',\n",
              "      'pluralName': 'College Libraries',\n",
              "      'primary': True,\n",
              "      'shortName': 'Library'}],\n",
              "    'hasPerk': False,\n",
              "    'id': '51a5dbc0498e821550e073dd',\n",
              "    'location': {'address': 'Colégio Qi',\n",
              "     'cc': 'BR',\n",
              "     'city': 'Rio de Janeiro',\n",
              "     'country': 'Brasil',\n",
              "     'distance': 1110,\n",
              "     'formattedAddress': ['Colégio Qi',\n",
              "      'Rio de Janeiro, RJ',\n",
              "      '20271-021',\n",
              "      'Brasil'],\n",
              "     'labeledLatLngs': [{'label': 'display',\n",
              "       'lat': -22.91362953186035,\n",
              "       'lng': -43.219825744628906}],\n",
              "     'lat': -22.91362953186035,\n",
              "     'lng': -43.219825744628906,\n",
              "     'postalCode': '20271-021',\n",
              "     'state': 'RJ'},\n",
              "    'name': 'Biblioteca',\n",
              "    'referralId': 'v-1619129646'},\n",
              "   {'categories': [{'icon': {'prefix': 'https://ss3.4sqi.net/img/categories_v2/building/school_',\n",
              "       'suffix': '.png'},\n",
              "      'id': '4bf58dd8d48988d13d941735',\n",
              "      'name': 'High School',\n",
              "      'pluralName': 'High Schools',\n",
              "      'primary': True,\n",
              "      'shortName': 'High School'}],\n",
              "    'hasPerk': False,\n",
              "    'id': '4ce92dca8ef78cfa62429f9b',\n",
              "    'location': {'address': 'Av. Paulo de Frontin, 452',\n",
              "     'cc': 'BR',\n",
              "     'city': 'Rio de Janeiro',\n",
              "     'country': 'Brasil',\n",
              "     'distance': 1334,\n",
              "     'formattedAddress': ['Av. Paulo de Frontin, 452',\n",
              "      'Rio de Janeiro, RJ',\n",
              "      '20261-080',\n",
              "      'Brasil'],\n",
              "     'labeledLatLngs': [{'label': 'display',\n",
              "       'lat': -22.92298239536284,\n",
              "       'lng': -43.21017265319824}],\n",
              "     'lat': -22.92298239536284,\n",
              "     'lng': -43.21017265319824,\n",
              "     'postalCode': '20261-080',\n",
              "     'state': 'RJ'},\n",
              "    'name': 'E. M. Jenny Gomes',\n",
              "    'referralId': 'v-1619129646'},\n",
              "   {'categories': [{'icon': {'prefix': 'https://ss3.4sqi.net/img/categories_v2/education/default_',\n",
              "       'suffix': '.png'},\n",
              "      'id': '52e81612bcbc57f1066b7a46',\n",
              "      'name': 'Private School',\n",
              "      'pluralName': 'Private Schools',\n",
              "      'primary': True,\n",
              "      'shortName': 'Private School'}],\n",
              "    'hasPerk': False,\n",
              "    'id': '4cfff6646923721ef420c23b',\n",
              "    'location': {'address': 'R. Ibituruna, 35',\n",
              "     'cc': 'BR',\n",
              "     'city': 'Rio de Janeiro',\n",
              "     'country': 'Brasil',\n",
              "     'distance': 1108,\n",
              "     'formattedAddress': ['R. Ibituruna, 35',\n",
              "      'Rio de Janeiro, RJ',\n",
              "      '20271-021',\n",
              "      'Brasil'],\n",
              "     'labeledLatLngs': [{'label': 'display',\n",
              "       'lat': -22.913789126006044,\n",
              "       'lng': -43.21975378751858}],\n",
              "     'lat': -22.913789126006044,\n",
              "     'lng': -43.21975378751858,\n",
              "     'postalCode': '20271-021',\n",
              "     'state': 'RJ'},\n",
              "    'name': 'GPI Curso Perspectiva',\n",
              "    'referralId': 'v-1619129646'},\n",
              "   {'categories': [{'icon': {'prefix': 'https://ss3.4sqi.net/img/categories_v2/building/auditorium_',\n",
              "       'suffix': '.png'},\n",
              "      'id': '4bf58dd8d48988d1af941735',\n",
              "      'name': 'College Auditorium',\n",
              "      'pluralName': 'College Auditoriums',\n",
              "      'primary': True,\n",
              "      'shortName': 'Auditorium'}],\n",
              "    'hasPerk': False,\n",
              "    'id': '529366c511d2fba37e8c1422',\n",
              "    'location': {'address': 'CE Julia Kubitschek',\n",
              "     'cc': 'BR',\n",
              "     'city': 'Rio de Janeiro',\n",
              "     'country': 'Brasil',\n",
              "     'distance': 1573,\n",
              "     'formattedAddress': ['CE Julia Kubitschek',\n",
              "      'Rio de Janeiro, RJ',\n",
              "      '20230-193',\n",
              "      'Brasil'],\n",
              "     'labeledLatLngs': [{'label': 'display',\n",
              "       'lat': -22.907541165009704,\n",
              "       'lng': -43.19449972175288}],\n",
              "     'lat': -22.907541165009704,\n",
              "     'lng': -43.19449972175288,\n",
              "     'postalCode': '20230-193',\n",
              "     'state': 'RJ'},\n",
              "    'name': 'Auditório',\n",
              "    'referralId': 'v-1619129646'}]}}"
            ]
          },
          "metadata": {
            "tags": []
          },
          "execution_count": 189
        }
      ]
    },
    {
      "cell_type": "code",
      "metadata": {
        "id": "p2-Ex5P_XK2g"
      },
      "source": [
        ""
      ],
      "execution_count": 157,
      "outputs": []
    },
    {
      "cell_type": "code",
      "metadata": {
        "id": "RAHnFd8FLRv4"
      },
      "source": [
        ""
      ],
      "execution_count": 157,
      "outputs": []
    },
    {
      "cell_type": "markdown",
      "metadata": {
        "id": "y1GmSO2rLdoh"
      },
      "source": [
        "## Pegando a parte relevante do JSON e transformando em um dataframe (pandas) ##"
      ]
    },
    {
      "cell_type": "code",
      "metadata": {
        "id": "FYtg5AF0XZhQ",
        "colab": {
          "base_uri": "https://localhost:8080/",
          "height": 462
        },
        "outputId": "9c6e1050-8962-40e7-9e4b-b54eda4045d0"
      },
      "source": [
        "#transformando em dataframe\n",
        "venues = results['response']['venues']\n",
        "df_school = json_normalize(venues)\n",
        "df_school.head()"
      ],
      "execution_count": 203,
      "outputs": [
        {
          "output_type": "stream",
          "text": [
            "/usr/local/lib/python3.7/dist-packages/ipykernel_launcher.py:3: FutureWarning: pandas.io.json.json_normalize is deprecated, use pandas.json_normalize instead\n",
            "  This is separate from the ipykernel package so we can avoid doing imports until\n"
          ],
          "name": "stderr"
        },
        {
          "output_type": "execute_result",
          "data": {
            "text/html": [
              "<div>\n",
              "<style scoped>\n",
              "    .dataframe tbody tr th:only-of-type {\n",
              "        vertical-align: middle;\n",
              "    }\n",
              "\n",
              "    .dataframe tbody tr th {\n",
              "        vertical-align: top;\n",
              "    }\n",
              "\n",
              "    .dataframe thead th {\n",
              "        text-align: right;\n",
              "    }\n",
              "</style>\n",
              "<table border=\"1\" class=\"dataframe\">\n",
              "  <thead>\n",
              "    <tr style=\"text-align: right;\">\n",
              "      <th></th>\n",
              "      <th>id</th>\n",
              "      <th>name</th>\n",
              "      <th>categories</th>\n",
              "      <th>referralId</th>\n",
              "      <th>hasPerk</th>\n",
              "      <th>location.address</th>\n",
              "      <th>location.lat</th>\n",
              "      <th>location.lng</th>\n",
              "      <th>location.labeledLatLngs</th>\n",
              "      <th>location.distance</th>\n",
              "      <th>location.postalCode</th>\n",
              "      <th>location.cc</th>\n",
              "      <th>location.city</th>\n",
              "      <th>location.state</th>\n",
              "      <th>location.country</th>\n",
              "      <th>location.formattedAddress</th>\n",
              "      <th>location.crossStreet</th>\n",
              "    </tr>\n",
              "  </thead>\n",
              "  <tbody>\n",
              "    <tr>\n",
              "      <th>0</th>\n",
              "      <td>4e60f0fb315114bf603f914f</td>\n",
              "      <td>CARJ - Colégio Adventista do Rio de Janeiro</td>\n",
              "      <td>[{'id': '52e81612bcbc57f1066b7a46', 'name': 'P...</td>\n",
              "      <td>v-1619129646</td>\n",
              "      <td>False</td>\n",
              "      <td>Tv. Dr. Araújo, 21</td>\n",
              "      <td>-22.914815</td>\n",
              "      <td>-43.214707</td>\n",
              "      <td>[{'label': 'display', 'lat': -22.9148148366665...</td>\n",
              "      <td>691</td>\n",
              "      <td>20270-070</td>\n",
              "      <td>BR</td>\n",
              "      <td>Rio de Janeiro</td>\n",
              "      <td>RJ</td>\n",
              "      <td>Brasil</td>\n",
              "      <td>[Tv. Dr. Araújo, 21, Rio de Janeiro, RJ, 20270...</td>\n",
              "      <td>NaN</td>\n",
              "    </tr>\n",
              "    <tr>\n",
              "      <th>1</th>\n",
              "      <td>4d30474405585941fce35b37</td>\n",
              "      <td>Colégio Qi</td>\n",
              "      <td>[{'id': '52e81612bcbc57f1066b7a46', 'name': 'P...</td>\n",
              "      <td>v-1619129646</td>\n",
              "      <td>False</td>\n",
              "      <td>R. Ibituruna, 37</td>\n",
              "      <td>-22.913802</td>\n",
              "      <td>-43.220259</td>\n",
              "      <td>[{'label': 'display', 'lat': -22.9138020434751...</td>\n",
              "      <td>1158</td>\n",
              "      <td>20271-021</td>\n",
              "      <td>BR</td>\n",
              "      <td>Rio de Janeiro</td>\n",
              "      <td>RJ</td>\n",
              "      <td>Brasil</td>\n",
              "      <td>[R. Ibituruna, 37, Rio de Janeiro, RJ, 20271-0...</td>\n",
              "      <td>NaN</td>\n",
              "    </tr>\n",
              "    <tr>\n",
              "      <th>2</th>\n",
              "      <td>4c2b56d0b34ad13a8293e9ce</td>\n",
              "      <td>Colégio e Curso pH</td>\n",
              "      <td>[{'id': '4bf58dd8d48988d13d941735', 'name': 'H...</td>\n",
              "      <td>v-1619129646</td>\n",
              "      <td>False</td>\n",
              "      <td>R. Prof. Gabizo, 211</td>\n",
              "      <td>-22.917880</td>\n",
              "      <td>-43.221191</td>\n",
              "      <td>[{'label': 'display', 'lat': -22.9178796014997...</td>\n",
              "      <td>1432</td>\n",
              "      <td>20271-064</td>\n",
              "      <td>BR</td>\n",
              "      <td>Rio de Janeiro</td>\n",
              "      <td>RJ</td>\n",
              "      <td>Brasil</td>\n",
              "      <td>[R. Prof. Gabizo, 211, Rio de Janeiro, RJ, 202...</td>\n",
              "      <td>NaN</td>\n",
              "    </tr>\n",
              "    <tr>\n",
              "      <th>3</th>\n",
              "      <td>4c7cde823e90a1cda18743be</td>\n",
              "      <td>Pensi Colégio e Curso</td>\n",
              "      <td>[{'id': '52e81612bcbc57f1066b7a46', 'name': 'P...</td>\n",
              "      <td>v-1619129646</td>\n",
              "      <td>False</td>\n",
              "      <td>R. Ibituruna, 27</td>\n",
              "      <td>-22.913970</td>\n",
              "      <td>-43.219829</td>\n",
              "      <td>[{'label': 'display', 'lat': -22.9139701021976...</td>\n",
              "      <td>1121</td>\n",
              "      <td>20271-021</td>\n",
              "      <td>BR</td>\n",
              "      <td>Rio de Janeiro</td>\n",
              "      <td>RJ</td>\n",
              "      <td>Brasil</td>\n",
              "      <td>[R. Ibituruna, 27 (Unidade Tijuca I), Rio de J...</td>\n",
              "      <td>Unidade Tijuca I</td>\n",
              "    </tr>\n",
              "    <tr>\n",
              "      <th>4</th>\n",
              "      <td>53e9e823498ecddee79da976</td>\n",
              "      <td>Colegio e curso superior</td>\n",
              "      <td>[{'id': '4bf58dd8d48988d1ae941735', 'name': 'U...</td>\n",
              "      <td>v-1619129646</td>\n",
              "      <td>False</td>\n",
              "      <td>Tijuca</td>\n",
              "      <td>-22.905207</td>\n",
              "      <td>-43.205631</td>\n",
              "      <td>[{'label': 'display', 'lat': -22.9052066802978...</td>\n",
              "      <td>751</td>\n",
              "      <td>NaN</td>\n",
              "      <td>BR</td>\n",
              "      <td>Rio de Janeiro</td>\n",
              "      <td>RJ</td>\n",
              "      <td>Brasil</td>\n",
              "      <td>[Tijuca, Rio de Janeiro, RJ, Brasil]</td>\n",
              "      <td>NaN</td>\n",
              "    </tr>\n",
              "  </tbody>\n",
              "</table>\n",
              "</div>"
            ],
            "text/plain": [
              "                         id  ... location.crossStreet\n",
              "0  4e60f0fb315114bf603f914f  ...                  NaN\n",
              "1  4d30474405585941fce35b37  ...                  NaN\n",
              "2  4c2b56d0b34ad13a8293e9ce  ...                  NaN\n",
              "3  4c7cde823e90a1cda18743be  ...     Unidade Tijuca I\n",
              "4  53e9e823498ecddee79da976  ...                  NaN\n",
              "\n",
              "[5 rows x 17 columns]"
            ]
          },
          "metadata": {
            "tags": []
          },
          "execution_count": 203
        }
      ]
    },
    {
      "cell_type": "code",
      "metadata": {
        "id": "9AXZHwcoKvAp"
      },
      "source": [
        ""
      ],
      "execution_count": 203,
      "outputs": []
    },
    {
      "cell_type": "markdown",
      "metadata": {
        "id": "uNv1W01GXSsP"
      },
      "source": [
        "# Define information of interest and filter dataframe #"
      ]
    },
    {
      "cell_type": "code",
      "metadata": {
        "id": "3a379--4XKt3",
        "colab": {
          "base_uri": "https://localhost:8080/",
          "height": 428
        },
        "outputId": "b1f5e088-7b38-468d-b989-16d1213fcf72"
      },
      "source": [
        "# Mantém somente as colunas que incluem venue name e qualquer coisa que é associada com a localização\n",
        "filtered_columns = ['name', 'categories'] + [col for col in df_school.columns if col.startswith('location.')] + ['id']\n",
        "df_school_filtered = df_school.loc[:, filtered_columns]\n",
        "\n",
        "# função que extrai a categoria de venue \n",
        "def get_category_type(row):\n",
        "    try:\n",
        "        categories_list = row['categories']\n",
        "    except:\n",
        "        categories_list = row['venue.categories']\n",
        "        \n",
        "    if len(categories_list) == 0:\n",
        "        return None\n",
        "    else:\n",
        "        return categories_list[0]['name']\n",
        "\n",
        "# filtra a categoria por cada linha do data frame\n",
        "df_school_filtered['categories'] = df_school_filtered.apply(get_category_type, axis=1)\n",
        "\n",
        "# limpa os nomes das colunas para manter somente o último termo\n",
        "df_school_filtered.columns = [column.split('.')[-1] for column in df_school_filtered.columns]\n",
        "\n",
        "df_school_filtered.head()"
      ],
      "execution_count": 204,
      "outputs": [
        {
          "output_type": "execute_result",
          "data": {
            "text/html": [
              "<div>\n",
              "<style scoped>\n",
              "    .dataframe tbody tr th:only-of-type {\n",
              "        vertical-align: middle;\n",
              "    }\n",
              "\n",
              "    .dataframe tbody tr th {\n",
              "        vertical-align: top;\n",
              "    }\n",
              "\n",
              "    .dataframe thead th {\n",
              "        text-align: right;\n",
              "    }\n",
              "</style>\n",
              "<table border=\"1\" class=\"dataframe\">\n",
              "  <thead>\n",
              "    <tr style=\"text-align: right;\">\n",
              "      <th></th>\n",
              "      <th>name</th>\n",
              "      <th>categories</th>\n",
              "      <th>address</th>\n",
              "      <th>lat</th>\n",
              "      <th>lng</th>\n",
              "      <th>labeledLatLngs</th>\n",
              "      <th>distance</th>\n",
              "      <th>postalCode</th>\n",
              "      <th>cc</th>\n",
              "      <th>city</th>\n",
              "      <th>state</th>\n",
              "      <th>country</th>\n",
              "      <th>formattedAddress</th>\n",
              "      <th>crossStreet</th>\n",
              "      <th>id</th>\n",
              "    </tr>\n",
              "  </thead>\n",
              "  <tbody>\n",
              "    <tr>\n",
              "      <th>0</th>\n",
              "      <td>CARJ - Colégio Adventista do Rio de Janeiro</td>\n",
              "      <td>Private School</td>\n",
              "      <td>Tv. Dr. Araújo, 21</td>\n",
              "      <td>-22.914815</td>\n",
              "      <td>-43.214707</td>\n",
              "      <td>[{'label': 'display', 'lat': -22.9148148366665...</td>\n",
              "      <td>691</td>\n",
              "      <td>20270-070</td>\n",
              "      <td>BR</td>\n",
              "      <td>Rio de Janeiro</td>\n",
              "      <td>RJ</td>\n",
              "      <td>Brasil</td>\n",
              "      <td>[Tv. Dr. Araújo, 21, Rio de Janeiro, RJ, 20270...</td>\n",
              "      <td>NaN</td>\n",
              "      <td>4e60f0fb315114bf603f914f</td>\n",
              "    </tr>\n",
              "    <tr>\n",
              "      <th>1</th>\n",
              "      <td>Colégio Qi</td>\n",
              "      <td>Private School</td>\n",
              "      <td>R. Ibituruna, 37</td>\n",
              "      <td>-22.913802</td>\n",
              "      <td>-43.220259</td>\n",
              "      <td>[{'label': 'display', 'lat': -22.9138020434751...</td>\n",
              "      <td>1158</td>\n",
              "      <td>20271-021</td>\n",
              "      <td>BR</td>\n",
              "      <td>Rio de Janeiro</td>\n",
              "      <td>RJ</td>\n",
              "      <td>Brasil</td>\n",
              "      <td>[R. Ibituruna, 37, Rio de Janeiro, RJ, 20271-0...</td>\n",
              "      <td>NaN</td>\n",
              "      <td>4d30474405585941fce35b37</td>\n",
              "    </tr>\n",
              "    <tr>\n",
              "      <th>2</th>\n",
              "      <td>Colégio e Curso pH</td>\n",
              "      <td>High School</td>\n",
              "      <td>R. Prof. Gabizo, 211</td>\n",
              "      <td>-22.917880</td>\n",
              "      <td>-43.221191</td>\n",
              "      <td>[{'label': 'display', 'lat': -22.9178796014997...</td>\n",
              "      <td>1432</td>\n",
              "      <td>20271-064</td>\n",
              "      <td>BR</td>\n",
              "      <td>Rio de Janeiro</td>\n",
              "      <td>RJ</td>\n",
              "      <td>Brasil</td>\n",
              "      <td>[R. Prof. Gabizo, 211, Rio de Janeiro, RJ, 202...</td>\n",
              "      <td>NaN</td>\n",
              "      <td>4c2b56d0b34ad13a8293e9ce</td>\n",
              "    </tr>\n",
              "    <tr>\n",
              "      <th>3</th>\n",
              "      <td>Pensi Colégio e Curso</td>\n",
              "      <td>Private School</td>\n",
              "      <td>R. Ibituruna, 27</td>\n",
              "      <td>-22.913970</td>\n",
              "      <td>-43.219829</td>\n",
              "      <td>[{'label': 'display', 'lat': -22.9139701021976...</td>\n",
              "      <td>1121</td>\n",
              "      <td>20271-021</td>\n",
              "      <td>BR</td>\n",
              "      <td>Rio de Janeiro</td>\n",
              "      <td>RJ</td>\n",
              "      <td>Brasil</td>\n",
              "      <td>[R. Ibituruna, 27 (Unidade Tijuca I), Rio de J...</td>\n",
              "      <td>Unidade Tijuca I</td>\n",
              "      <td>4c7cde823e90a1cda18743be</td>\n",
              "    </tr>\n",
              "    <tr>\n",
              "      <th>4</th>\n",
              "      <td>Colegio e curso superior</td>\n",
              "      <td>University</td>\n",
              "      <td>Tijuca</td>\n",
              "      <td>-22.905207</td>\n",
              "      <td>-43.205631</td>\n",
              "      <td>[{'label': 'display', 'lat': -22.9052066802978...</td>\n",
              "      <td>751</td>\n",
              "      <td>NaN</td>\n",
              "      <td>BR</td>\n",
              "      <td>Rio de Janeiro</td>\n",
              "      <td>RJ</td>\n",
              "      <td>Brasil</td>\n",
              "      <td>[Tijuca, Rio de Janeiro, RJ, Brasil]</td>\n",
              "      <td>NaN</td>\n",
              "      <td>53e9e823498ecddee79da976</td>\n",
              "    </tr>\n",
              "  </tbody>\n",
              "</table>\n",
              "</div>"
            ],
            "text/plain": [
              "                                          name  ...                        id\n",
              "0  CARJ - Colégio Adventista do Rio de Janeiro  ...  4e60f0fb315114bf603f914f\n",
              "1                                   Colégio Qi  ...  4d30474405585941fce35b37\n",
              "2                           Colégio e Curso pH  ...  4c2b56d0b34ad13a8293e9ce\n",
              "3                        Pensi Colégio e Curso  ...  4c7cde823e90a1cda18743be\n",
              "4                     Colegio e curso superior  ...  53e9e823498ecddee79da976\n",
              "\n",
              "[5 rows x 15 columns]"
            ]
          },
          "metadata": {
            "tags": []
          },
          "execution_count": 204
        }
      ]
    },
    {
      "cell_type": "markdown",
      "metadata": {
        "id": "V_rl39HFbeN8"
      },
      "source": [
        "# Nome e categorias dos dados #"
      ]
    },
    {
      "cell_type": "code",
      "metadata": {
        "colab": {
          "base_uri": "https://localhost:8080/"
        },
        "id": "kphVwYd5bkma",
        "outputId": "3e787e0f-c48c-4286-c7bf-63f285d9a141"
      },
      "source": [
        "df_school_filtered.columns"
      ],
      "execution_count": 215,
      "outputs": [
        {
          "output_type": "execute_result",
          "data": {
            "text/plain": [
              "Index(['name', 'categories', 'address', 'lat', 'lng', 'labeledLatLngs',\n",
              "       'distance', 'postalCode', 'cc', 'city', 'state', 'country',\n",
              "       'formattedAddress', 'crossStreet', 'id'],\n",
              "      dtype='object')"
            ]
          },
          "metadata": {
            "tags": []
          },
          "execution_count": 215
        }
      ]
    },
    {
      "cell_type": "code",
      "metadata": {
        "colab": {
          "base_uri": "https://localhost:8080/"
        },
        "id": "9LozRpYJG09h",
        "outputId": "743117ef-823e-4c3a-a05a-edd8259f6cf2"
      },
      "source": [
        "df_school_filtered.name"
      ],
      "execution_count": 207,
      "outputs": [
        {
          "output_type": "execute_result",
          "data": {
            "text/plain": [
              "0     CARJ - Colégio Adventista do Rio de Janeiro\n",
              "1                                      Colégio Qi\n",
              "2                              Colégio e Curso pH\n",
              "3                           Pensi Colégio e Curso\n",
              "4                        Colegio e curso superior\n",
              "5                            Colégio Guanabarense\n",
              "6                               Colégio Curso SEI\n",
              "7                           colégio barbara Otoni\n",
              "8                            Colégio Maria Raythe\n",
              "9                              Colégio Modelo GPI\n",
              "10                      Colégio Bezerra de Araújo\n",
              "11          Colégio Miguel Couto - Unidade Tijuca\n",
              "12                            Colégio Graham Bell\n",
              "13                         Colegio L'Hermitage RJ\n",
              "14                                 Colégio Sagres\n",
              "15               Colégio Estadual Hebert de Souza\n",
              "16                               Colegio Van Gogh\n",
              "17                     Colégio Mérito D' Martonne\n",
              "18              Colégio Estadual Herbert De Souza\n",
              "19                          COLÉGIO PREIRA PASSOS\n",
              "20                             Colégio 1º De Maio\n",
              "21                       Colegio Primeiro De Maio\n",
              "22            Colégio Brasileiro de São Cristovão\n",
              "23           _A_Z - Colégio e Vestibular de A a Z\n",
              "24          Projeto Área Verde - Colégio Pedro II\n",
              "25                        CE Antonio Prado Júnior\n",
              "26                  Biblioteca - Colégio Pedro II\n",
              "27                                     Biblioteca\n",
              "28                              E. M. Jenny Gomes\n",
              "29                          GPI Curso Perspectiva\n",
              "30                                      Auditório\n",
              "Name: name, dtype: object"
            ]
          },
          "metadata": {
            "tags": []
          },
          "execution_count": 207
        }
      ]
    },
    {
      "cell_type": "code",
      "metadata": {
        "colab": {
          "base_uri": "https://localhost:8080/"
        },
        "id": "QkEjM2BnHGAU",
        "outputId": "8eb1fdce-d461-4831-ed8a-e7b46a0c5a7a"
      },
      "source": [
        "df_school_filtered.categories"
      ],
      "execution_count": 208,
      "outputs": [
        {
          "output_type": "execute_result",
          "data": {
            "text/plain": [
              "0                      Private School\n",
              "1                      Private School\n",
              "2                         High School\n",
              "3                      Private School\n",
              "4                          University\n",
              "5        General College & University\n",
              "6                              School\n",
              "7                      Student Center\n",
              "8                              School\n",
              "9                      Private School\n",
              "10    College Administrative Building\n",
              "11                     Student Center\n",
              "12                  College Classroom\n",
              "13                               None\n",
              "14                     Private School\n",
              "15                             School\n",
              "16                               None\n",
              "17                      Middle School\n",
              "18              College Arts Building\n",
              "19                        High School\n",
              "20                        High School\n",
              "21                        High School\n",
              "22          College Academic Building\n",
              "23                     Private School\n",
              "24                        College Lab\n",
              "25                             School\n",
              "26                            Library\n",
              "27                    College Library\n",
              "28                        High School\n",
              "29                     Private School\n",
              "30                 College Auditorium\n",
              "Name: categories, dtype: object"
            ]
          },
          "metadata": {
            "tags": []
          },
          "execution_count": 208
        }
      ]
    },
    {
      "cell_type": "code",
      "metadata": {
        "id": "AxpACJfAzX7H"
      },
      "source": [
        ""
      ],
      "execution_count": 208,
      "outputs": []
    },
    {
      "cell_type": "markdown",
      "metadata": {
        "id": "-SJzRn_cbN7z"
      },
      "source": [
        "# Identificar as ids de escolas diferentes #"
      ]
    },
    {
      "cell_type": "code",
      "metadata": {
        "colab": {
          "base_uri": "https://localhost:8080/",
          "height": 1000
        },
        "id": "labrVbGUYxZD",
        "outputId": "923bbcb4-eac1-4645-8bd0-dd35e4d10078"
      },
      "source": [
        "df_school_filtered[['id', 'name']]"
      ],
      "execution_count": 209,
      "outputs": [
        {
          "output_type": "execute_result",
          "data": {
            "text/html": [
              "<div>\n",
              "<style scoped>\n",
              "    .dataframe tbody tr th:only-of-type {\n",
              "        vertical-align: middle;\n",
              "    }\n",
              "\n",
              "    .dataframe tbody tr th {\n",
              "        vertical-align: top;\n",
              "    }\n",
              "\n",
              "    .dataframe thead th {\n",
              "        text-align: right;\n",
              "    }\n",
              "</style>\n",
              "<table border=\"1\" class=\"dataframe\">\n",
              "  <thead>\n",
              "    <tr style=\"text-align: right;\">\n",
              "      <th></th>\n",
              "      <th>id</th>\n",
              "      <th>name</th>\n",
              "    </tr>\n",
              "  </thead>\n",
              "  <tbody>\n",
              "    <tr>\n",
              "      <th>0</th>\n",
              "      <td>4e60f0fb315114bf603f914f</td>\n",
              "      <td>CARJ - Colégio Adventista do Rio de Janeiro</td>\n",
              "    </tr>\n",
              "    <tr>\n",
              "      <th>1</th>\n",
              "      <td>4d30474405585941fce35b37</td>\n",
              "      <td>Colégio Qi</td>\n",
              "    </tr>\n",
              "    <tr>\n",
              "      <th>2</th>\n",
              "      <td>4c2b56d0b34ad13a8293e9ce</td>\n",
              "      <td>Colégio e Curso pH</td>\n",
              "    </tr>\n",
              "    <tr>\n",
              "      <th>3</th>\n",
              "      <td>4c7cde823e90a1cda18743be</td>\n",
              "      <td>Pensi Colégio e Curso</td>\n",
              "    </tr>\n",
              "    <tr>\n",
              "      <th>4</th>\n",
              "      <td>53e9e823498ecddee79da976</td>\n",
              "      <td>Colegio e curso superior</td>\n",
              "    </tr>\n",
              "    <tr>\n",
              "      <th>5</th>\n",
              "      <td>4ca8bfd0b7106dcbc1ab75a5</td>\n",
              "      <td>Colégio Guanabarense</td>\n",
              "    </tr>\n",
              "    <tr>\n",
              "      <th>6</th>\n",
              "      <td>5895d3afd7b4732925b68b2e</td>\n",
              "      <td>Colégio Curso SEI</td>\n",
              "    </tr>\n",
              "    <tr>\n",
              "      <th>7</th>\n",
              "      <td>4fc4ba7fe4b084616fe44cf0</td>\n",
              "      <td>colégio barbara Otoni</td>\n",
              "    </tr>\n",
              "    <tr>\n",
              "      <th>8</th>\n",
              "      <td>4df3dc3e62e1288ed3059bf0</td>\n",
              "      <td>Colégio Maria Raythe</td>\n",
              "    </tr>\n",
              "    <tr>\n",
              "      <th>9</th>\n",
              "      <td>56b20d4638fa948b56fe34b1</td>\n",
              "      <td>Colégio Modelo GPI</td>\n",
              "    </tr>\n",
              "    <tr>\n",
              "      <th>10</th>\n",
              "      <td>53650bd3498eb12aad8f27c4</td>\n",
              "      <td>Colégio Bezerra de Araújo</td>\n",
              "    </tr>\n",
              "    <tr>\n",
              "      <th>11</th>\n",
              "      <td>4d6ef34f35993704e48e069d</td>\n",
              "      <td>Colégio Miguel Couto - Unidade Tijuca</td>\n",
              "    </tr>\n",
              "    <tr>\n",
              "      <th>12</th>\n",
              "      <td>4d90daa11716a143b29b6bf7</td>\n",
              "      <td>Colégio Graham Bell</td>\n",
              "    </tr>\n",
              "    <tr>\n",
              "      <th>13</th>\n",
              "      <td>4ded1e197d8ba3b6f34ec507</td>\n",
              "      <td>Colegio L'Hermitage RJ</td>\n",
              "    </tr>\n",
              "    <tr>\n",
              "      <th>14</th>\n",
              "      <td>53e352c3498eff39f4c0629d</td>\n",
              "      <td>Colégio Sagres</td>\n",
              "    </tr>\n",
              "    <tr>\n",
              "      <th>15</th>\n",
              "      <td>50bb9ff4e4b03b79be23f66b</td>\n",
              "      <td>Colégio Estadual Hebert de Souza</td>\n",
              "    </tr>\n",
              "    <tr>\n",
              "      <th>16</th>\n",
              "      <td>4e64c62db0fb188e8eae5a21</td>\n",
              "      <td>Colegio Van Gogh</td>\n",
              "    </tr>\n",
              "    <tr>\n",
              "      <th>17</th>\n",
              "      <td>51128771e4b062fc93ea7d69</td>\n",
              "      <td>Colégio Mérito D' Martonne</td>\n",
              "    </tr>\n",
              "    <tr>\n",
              "      <th>18</th>\n",
              "      <td>4fcc09b3e4b09e8af89ce3f7</td>\n",
              "      <td>Colégio Estadual Herbert De Souza</td>\n",
              "    </tr>\n",
              "    <tr>\n",
              "      <th>19</th>\n",
              "      <td>50fc121c8aca2511ba8b8bad</td>\n",
              "      <td>COLÉGIO PREIRA PASSOS</td>\n",
              "    </tr>\n",
              "    <tr>\n",
              "      <th>20</th>\n",
              "      <td>5001c438e4b0bfb883bf4f2a</td>\n",
              "      <td>Colégio 1º De Maio</td>\n",
              "    </tr>\n",
              "    <tr>\n",
              "      <th>21</th>\n",
              "      <td>51324450e4b006d9cdf91842</td>\n",
              "      <td>Colegio Primeiro De Maio</td>\n",
              "    </tr>\n",
              "    <tr>\n",
              "      <th>22</th>\n",
              "      <td>4ca8c149b0b8236a6aa5b6e6</td>\n",
              "      <td>Colégio Brasileiro de São Cristovão</td>\n",
              "    </tr>\n",
              "    <tr>\n",
              "      <th>23</th>\n",
              "      <td>50febc9ae4b07787e8c58623</td>\n",
              "      <td>_A_Z - Colégio e Vestibular de A a Z</td>\n",
              "    </tr>\n",
              "    <tr>\n",
              "      <th>24</th>\n",
              "      <td>54ca2b38498e64a5514fc669</td>\n",
              "      <td>Projeto Área Verde - Colégio Pedro II</td>\n",
              "    </tr>\n",
              "    <tr>\n",
              "      <th>25</th>\n",
              "      <td>4d7fa4a2e7e1721e5e52f60b</td>\n",
              "      <td>CE Antonio Prado Júnior</td>\n",
              "    </tr>\n",
              "    <tr>\n",
              "      <th>26</th>\n",
              "      <td>52f90003498ea024d61084d5</td>\n",
              "      <td>Biblioteca - Colégio Pedro II</td>\n",
              "    </tr>\n",
              "    <tr>\n",
              "      <th>27</th>\n",
              "      <td>51a5dbc0498e821550e073dd</td>\n",
              "      <td>Biblioteca</td>\n",
              "    </tr>\n",
              "    <tr>\n",
              "      <th>28</th>\n",
              "      <td>4ce92dca8ef78cfa62429f9b</td>\n",
              "      <td>E. M. Jenny Gomes</td>\n",
              "    </tr>\n",
              "    <tr>\n",
              "      <th>29</th>\n",
              "      <td>4cfff6646923721ef420c23b</td>\n",
              "      <td>GPI Curso Perspectiva</td>\n",
              "    </tr>\n",
              "    <tr>\n",
              "      <th>30</th>\n",
              "      <td>529366c511d2fba37e8c1422</td>\n",
              "      <td>Auditório</td>\n",
              "    </tr>\n",
              "  </tbody>\n",
              "</table>\n",
              "</div>"
            ],
            "text/plain": [
              "                          id                                         name\n",
              "0   4e60f0fb315114bf603f914f  CARJ - Colégio Adventista do Rio de Janeiro\n",
              "1   4d30474405585941fce35b37                                   Colégio Qi\n",
              "2   4c2b56d0b34ad13a8293e9ce                           Colégio e Curso pH\n",
              "3   4c7cde823e90a1cda18743be                        Pensi Colégio e Curso\n",
              "4   53e9e823498ecddee79da976                     Colegio e curso superior\n",
              "5   4ca8bfd0b7106dcbc1ab75a5                         Colégio Guanabarense\n",
              "6   5895d3afd7b4732925b68b2e                            Colégio Curso SEI\n",
              "7   4fc4ba7fe4b084616fe44cf0                        colégio barbara Otoni\n",
              "8   4df3dc3e62e1288ed3059bf0                         Colégio Maria Raythe\n",
              "9   56b20d4638fa948b56fe34b1                           Colégio Modelo GPI\n",
              "10  53650bd3498eb12aad8f27c4                    Colégio Bezerra de Araújo\n",
              "11  4d6ef34f35993704e48e069d        Colégio Miguel Couto - Unidade Tijuca\n",
              "12  4d90daa11716a143b29b6bf7                          Colégio Graham Bell\n",
              "13  4ded1e197d8ba3b6f34ec507                       Colegio L'Hermitage RJ\n",
              "14  53e352c3498eff39f4c0629d                               Colégio Sagres\n",
              "15  50bb9ff4e4b03b79be23f66b             Colégio Estadual Hebert de Souza\n",
              "16  4e64c62db0fb188e8eae5a21                             Colegio Van Gogh\n",
              "17  51128771e4b062fc93ea7d69                   Colégio Mérito D' Martonne\n",
              "18  4fcc09b3e4b09e8af89ce3f7            Colégio Estadual Herbert De Souza\n",
              "19  50fc121c8aca2511ba8b8bad                        COLÉGIO PREIRA PASSOS\n",
              "20  5001c438e4b0bfb883bf4f2a                           Colégio 1º De Maio\n",
              "21  51324450e4b006d9cdf91842                     Colegio Primeiro De Maio\n",
              "22  4ca8c149b0b8236a6aa5b6e6          Colégio Brasileiro de São Cristovão\n",
              "23  50febc9ae4b07787e8c58623         _A_Z - Colégio e Vestibular de A a Z\n",
              "24  54ca2b38498e64a5514fc669        Projeto Área Verde - Colégio Pedro II\n",
              "25  4d7fa4a2e7e1721e5e52f60b                      CE Antonio Prado Júnior\n",
              "26  52f90003498ea024d61084d5                Biblioteca - Colégio Pedro II\n",
              "27  51a5dbc0498e821550e073dd                                   Biblioteca\n",
              "28  4ce92dca8ef78cfa62429f9b                            E. M. Jenny Gomes\n",
              "29  4cfff6646923721ef420c23b                        GPI Curso Perspectiva\n",
              "30  529366c511d2fba37e8c1422                                    Auditório"
            ]
          },
          "metadata": {
            "tags": []
          },
          "execution_count": 209
        }
      ]
    },
    {
      "cell_type": "markdown",
      "metadata": {
        "id": "m361hFyga7aF"
      },
      "source": [
        "# Visualizar escolas no mapa ao redor da localização anteriormente citada #"
      ]
    },
    {
      "cell_type": "code",
      "metadata": {
        "colab": {
          "base_uri": "https://localhost:8080/",
          "height": 763
        },
        "id": "n_UjNVGYIv7u",
        "outputId": "236f4b00-f7b4-4761-c3e1-5beac21119c5"
      },
      "source": [
        "venues_map = folium.Map(location=[latitude, longitude], zoom_start=13) # gerar mapa centrado no entorno do RJ\n",
        "\n",
        "# Circulo vermelho no centro\n",
        "folium.CircleMarker(\n",
        "    [latitude, longitude],\n",
        "    radius=10,\n",
        "    color='red',\n",
        "    popup='School',\n",
        "    fill = True,\n",
        "    fill_color = 'red',\n",
        "    fill_opacity = 0.6\n",
        ").add_to(venues_map)\n",
        "\n",
        "# Escolas em azul ao entorno\n",
        "for lat, lng, label in zip(df_school_filtered.lat, df_school_filtered.lng, df_school_filtered.categories):\n",
        "    folium.CircleMarker(\n",
        "        [lat, lng],\n",
        "        radius=5,\n",
        "        color='blue',\n",
        "       # popup=label,\n",
        "        fill = True,\n",
        "        fill_color='blue',\n",
        "        fill_opacity=0.6\n",
        "    ).add_to(venues_map)\n",
        "\n",
        "# display map\n",
        "venues_map"
      ],
      "execution_count": 210,
      "outputs": [
        {
          "output_type": "execute_result",
          "data": {
            "text/html": [
              "<div style=\"width:100%;\"><div style=\"position:relative;width:100%;height:0;padding-bottom:60%;\"><span style=\"color:#565656\">Make this Notebook Trusted to load map: File -> Trust Notebook</span><iframe src=\"about:blank\" style=\"position:absolute;width:100%;height:100%;left:0;top:0;border:none !important;\" data-html=%3C%21DOCTYPE%20html%3E%0A%3Chead%3E%20%20%20%20%0A%20%20%20%20%3Cmeta%20http-equiv%3D%22content-type%22%20content%3D%22text/html%3B%20charset%3DUTF-8%22%20/%3E%0A%20%20%20%20%3Cscript%3EL_PREFER_CANVAS%20%3D%20false%3B%20L_NO_TOUCH%20%3D%20false%3B%20L_DISABLE_3D%20%3D%20false%3B%3C/script%3E%0A%20%20%20%20%3Cscript%20src%3D%22https%3A//cdn.jsdelivr.net/npm/leaflet%401.2.0/dist/leaflet.js%22%3E%3C/script%3E%0A%20%20%20%20%3Cscript%20src%3D%22https%3A//ajax.googleapis.com/ajax/libs/jquery/1.11.1/jquery.min.js%22%3E%3C/script%3E%0A%20%20%20%20%3Cscript%20src%3D%22https%3A//maxcdn.bootstrapcdn.com/bootstrap/3.2.0/js/bootstrap.min.js%22%3E%3C/script%3E%0A%20%20%20%20%3Cscript%20src%3D%22https%3A//cdnjs.cloudflare.com/ajax/libs/Leaflet.awesome-markers/2.0.2/leaflet.awesome-markers.js%22%3E%3C/script%3E%0A%20%20%20%20%3Clink%20rel%3D%22stylesheet%22%20href%3D%22https%3A//cdn.jsdelivr.net/npm/leaflet%401.2.0/dist/leaflet.css%22/%3E%0A%20%20%20%20%3Clink%20rel%3D%22stylesheet%22%20href%3D%22https%3A//maxcdn.bootstrapcdn.com/bootstrap/3.2.0/css/bootstrap.min.css%22/%3E%0A%20%20%20%20%3Clink%20rel%3D%22stylesheet%22%20href%3D%22https%3A//maxcdn.bootstrapcdn.com/bootstrap/3.2.0/css/bootstrap-theme.min.css%22/%3E%0A%20%20%20%20%3Clink%20rel%3D%22stylesheet%22%20href%3D%22https%3A//maxcdn.bootstrapcdn.com/font-awesome/4.6.3/css/font-awesome.min.css%22/%3E%0A%20%20%20%20%3Clink%20rel%3D%22stylesheet%22%20href%3D%22https%3A//cdnjs.cloudflare.com/ajax/libs/Leaflet.awesome-markers/2.0.2/leaflet.awesome-markers.css%22/%3E%0A%20%20%20%20%3Clink%20rel%3D%22stylesheet%22%20href%3D%22https%3A//rawgit.com/python-visualization/folium/master/folium/templates/leaflet.awesome.rotate.css%22/%3E%0A%20%20%20%20%3Cstyle%3Ehtml%2C%20body%20%7Bwidth%3A%20100%25%3Bheight%3A%20100%25%3Bmargin%3A%200%3Bpadding%3A%200%3B%7D%3C/style%3E%0A%20%20%20%20%3Cstyle%3E%23map%20%7Bposition%3Aabsolute%3Btop%3A0%3Bbottom%3A0%3Bright%3A0%3Bleft%3A0%3B%7D%3C/style%3E%0A%20%20%20%20%0A%20%20%20%20%20%20%20%20%20%20%20%20%3Cstyle%3E%20%23map_30729343e1e3438b86f38a5c9d56bc9f%20%7B%0A%20%20%20%20%20%20%20%20%20%20%20%20%20%20%20%20position%20%3A%20relative%3B%0A%20%20%20%20%20%20%20%20%20%20%20%20%20%20%20%20width%20%3A%20100.0%25%3B%0A%20%20%20%20%20%20%20%20%20%20%20%20%20%20%20%20height%3A%20100.0%25%3B%0A%20%20%20%20%20%20%20%20%20%20%20%20%20%20%20%20left%3A%200.0%25%3B%0A%20%20%20%20%20%20%20%20%20%20%20%20%20%20%20%20top%3A%200.0%25%3B%0A%20%20%20%20%20%20%20%20%20%20%20%20%20%20%20%20%7D%0A%20%20%20%20%20%20%20%20%20%20%20%20%3C/style%3E%0A%20%20%20%20%20%20%20%20%0A%3C/head%3E%0A%3Cbody%3E%20%20%20%20%0A%20%20%20%20%0A%20%20%20%20%20%20%20%20%20%20%20%20%3Cdiv%20class%3D%22folium-map%22%20id%3D%22map_30729343e1e3438b86f38a5c9d56bc9f%22%20%3E%3C/div%3E%0A%20%20%20%20%20%20%20%20%0A%3C/body%3E%0A%3Cscript%3E%20%20%20%20%0A%20%20%20%20%0A%0A%20%20%20%20%20%20%20%20%20%20%20%20%0A%20%20%20%20%20%20%20%20%20%20%20%20%20%20%20%20var%20bounds%20%3D%20null%3B%0A%20%20%20%20%20%20%20%20%20%20%20%20%0A%0A%20%20%20%20%20%20%20%20%20%20%20%20var%20map_30729343e1e3438b86f38a5c9d56bc9f%20%3D%20L.map%28%0A%20%20%20%20%20%20%20%20%20%20%20%20%20%20%20%20%20%20%20%20%20%20%20%20%20%20%20%20%20%20%20%20%20%20%27map_30729343e1e3438b86f38a5c9d56bc9f%27%2C%0A%20%20%20%20%20%20%20%20%20%20%20%20%20%20%20%20%20%20%20%20%20%20%20%20%20%20%20%20%20%20%20%20%20%20%7Bcenter%3A%20%5B-22.9110137%2C-43.2093727%5D%2C%0A%20%20%20%20%20%20%20%20%20%20%20%20%20%20%20%20%20%20%20%20%20%20%20%20%20%20%20%20%20%20%20%20%20%20zoom%3A%2013%2C%0A%20%20%20%20%20%20%20%20%20%20%20%20%20%20%20%20%20%20%20%20%20%20%20%20%20%20%20%20%20%20%20%20%20%20maxBounds%3A%20bounds%2C%0A%20%20%20%20%20%20%20%20%20%20%20%20%20%20%20%20%20%20%20%20%20%20%20%20%20%20%20%20%20%20%20%20%20%20layers%3A%20%5B%5D%2C%0A%20%20%20%20%20%20%20%20%20%20%20%20%20%20%20%20%20%20%20%20%20%20%20%20%20%20%20%20%20%20%20%20%20%20worldCopyJump%3A%20false%2C%0A%20%20%20%20%20%20%20%20%20%20%20%20%20%20%20%20%20%20%20%20%20%20%20%20%20%20%20%20%20%20%20%20%20%20crs%3A%20L.CRS.EPSG3857%0A%20%20%20%20%20%20%20%20%20%20%20%20%20%20%20%20%20%20%20%20%20%20%20%20%20%20%20%20%20%20%20%20%20%7D%29%3B%0A%20%20%20%20%20%20%20%20%20%20%20%20%0A%20%20%20%20%20%20%20%20%0A%20%20%20%20%0A%20%20%20%20%20%20%20%20%20%20%20%20var%20tile_layer_a312794571fe41e097e7080d295c2f8b%20%3D%20L.tileLayer%28%0A%20%20%20%20%20%20%20%20%20%20%20%20%20%20%20%20%27https%3A//%7Bs%7D.tile.openstreetmap.org/%7Bz%7D/%7Bx%7D/%7By%7D.png%27%2C%0A%20%20%20%20%20%20%20%20%20%20%20%20%20%20%20%20%7B%0A%20%20%22attribution%22%3A%20null%2C%0A%20%20%22detectRetina%22%3A%20false%2C%0A%20%20%22maxZoom%22%3A%2018%2C%0A%20%20%22minZoom%22%3A%201%2C%0A%20%20%22noWrap%22%3A%20false%2C%0A%20%20%22subdomains%22%3A%20%22abc%22%0A%7D%0A%20%20%20%20%20%20%20%20%20%20%20%20%20%20%20%20%29.addTo%28map_30729343e1e3438b86f38a5c9d56bc9f%29%3B%0A%20%20%20%20%20%20%20%20%0A%20%20%20%20%0A%20%20%20%20%20%20%20%20%20%20%20%20var%20circle_marker_28d9964c25154584a60d387e9ee3af9e%20%3D%20L.circleMarker%28%0A%20%20%20%20%20%20%20%20%20%20%20%20%20%20%20%20%5B-22.9110137%2C-43.2093727%5D%2C%0A%20%20%20%20%20%20%20%20%20%20%20%20%20%20%20%20%7B%0A%20%20%22bubblingMouseEvents%22%3A%20true%2C%0A%20%20%22color%22%3A%20%22red%22%2C%0A%20%20%22dashArray%22%3A%20null%2C%0A%20%20%22dashOffset%22%3A%20null%2C%0A%20%20%22fill%22%3A%20true%2C%0A%20%20%22fillColor%22%3A%20%22red%22%2C%0A%20%20%22fillOpacity%22%3A%200.6%2C%0A%20%20%22fillRule%22%3A%20%22evenodd%22%2C%0A%20%20%22lineCap%22%3A%20%22round%22%2C%0A%20%20%22lineJoin%22%3A%20%22round%22%2C%0A%20%20%22opacity%22%3A%201.0%2C%0A%20%20%22radius%22%3A%2010%2C%0A%20%20%22stroke%22%3A%20true%2C%0A%20%20%22weight%22%3A%203%0A%7D%0A%20%20%20%20%20%20%20%20%20%20%20%20%20%20%20%20%29.addTo%28map_30729343e1e3438b86f38a5c9d56bc9f%29%3B%0A%20%20%20%20%20%20%20%20%20%20%20%20%0A%20%20%20%20%0A%20%20%20%20%20%20%20%20%20%20%20%20var%20popup_2002bbb32b7c4687b7d6db80887ce596%20%3D%20L.popup%28%7BmaxWidth%3A%20%27300%27%7D%29%3B%0A%0A%20%20%20%20%20%20%20%20%20%20%20%20%0A%20%20%20%20%20%20%20%20%20%20%20%20%20%20%20%20var%20html_3948bc8ec4344d2eb81f581f4d2dfd63%20%3D%20%24%28%27%3Cdiv%20id%3D%22html_3948bc8ec4344d2eb81f581f4d2dfd63%22%20style%3D%22width%3A%20100.0%25%3B%20height%3A%20100.0%25%3B%22%3ESchool%3C/div%3E%27%29%5B0%5D%3B%0A%20%20%20%20%20%20%20%20%20%20%20%20%20%20%20%20popup_2002bbb32b7c4687b7d6db80887ce596.setContent%28html_3948bc8ec4344d2eb81f581f4d2dfd63%29%3B%0A%20%20%20%20%20%20%20%20%20%20%20%20%0A%0A%20%20%20%20%20%20%20%20%20%20%20%20circle_marker_28d9964c25154584a60d387e9ee3af9e.bindPopup%28popup_2002bbb32b7c4687b7d6db80887ce596%29%3B%0A%0A%20%20%20%20%20%20%20%20%20%20%20%20%0A%20%20%20%20%20%20%20%20%0A%20%20%20%20%0A%20%20%20%20%20%20%20%20%20%20%20%20var%20circle_marker_b37516f0b202447dbf4ae6d0b414e379%20%3D%20L.circleMarker%28%0A%20%20%20%20%20%20%20%20%20%20%20%20%20%20%20%20%5B-22.914814836666505%2C-43.21470669286932%5D%2C%0A%20%20%20%20%20%20%20%20%20%20%20%20%20%20%20%20%7B%0A%20%20%22bubblingMouseEvents%22%3A%20true%2C%0A%20%20%22color%22%3A%20%22blue%22%2C%0A%20%20%22dashArray%22%3A%20null%2C%0A%20%20%22dashOffset%22%3A%20null%2C%0A%20%20%22fill%22%3A%20true%2C%0A%20%20%22fillColor%22%3A%20%22blue%22%2C%0A%20%20%22fillOpacity%22%3A%200.6%2C%0A%20%20%22fillRule%22%3A%20%22evenodd%22%2C%0A%20%20%22lineCap%22%3A%20%22round%22%2C%0A%20%20%22lineJoin%22%3A%20%22round%22%2C%0A%20%20%22opacity%22%3A%201.0%2C%0A%20%20%22radius%22%3A%205%2C%0A%20%20%22stroke%22%3A%20true%2C%0A%20%20%22weight%22%3A%203%0A%7D%0A%20%20%20%20%20%20%20%20%20%20%20%20%20%20%20%20%29.addTo%28map_30729343e1e3438b86f38a5c9d56bc9f%29%3B%0A%20%20%20%20%20%20%20%20%20%20%20%20%0A%20%20%20%20%0A%20%20%20%20%20%20%20%20%20%20%20%20var%20circle_marker_ebb4cdd15f9a4419b3dd429fb4074ea9%20%3D%20L.circleMarker%28%0A%20%20%20%20%20%20%20%20%20%20%20%20%20%20%20%20%5B-22.91380204347511%2C-43.22025879090274%5D%2C%0A%20%20%20%20%20%20%20%20%20%20%20%20%20%20%20%20%7B%0A%20%20%22bubblingMouseEvents%22%3A%20true%2C%0A%20%20%22color%22%3A%20%22blue%22%2C%0A%20%20%22dashArray%22%3A%20null%2C%0A%20%20%22dashOffset%22%3A%20null%2C%0A%20%20%22fill%22%3A%20true%2C%0A%20%20%22fillColor%22%3A%20%22blue%22%2C%0A%20%20%22fillOpacity%22%3A%200.6%2C%0A%20%20%22fillRule%22%3A%20%22evenodd%22%2C%0A%20%20%22lineCap%22%3A%20%22round%22%2C%0A%20%20%22lineJoin%22%3A%20%22round%22%2C%0A%20%20%22opacity%22%3A%201.0%2C%0A%20%20%22radius%22%3A%205%2C%0A%20%20%22stroke%22%3A%20true%2C%0A%20%20%22weight%22%3A%203%0A%7D%0A%20%20%20%20%20%20%20%20%20%20%20%20%20%20%20%20%29.addTo%28map_30729343e1e3438b86f38a5c9d56bc9f%29%3B%0A%20%20%20%20%20%20%20%20%20%20%20%20%0A%20%20%20%20%0A%20%20%20%20%20%20%20%20%20%20%20%20var%20circle_marker_8557b80934c0456e9f12463ca1800db9%20%3D%20L.circleMarker%28%0A%20%20%20%20%20%20%20%20%20%20%20%20%20%20%20%20%5B-22.9178796014997%2C-43.22119109048445%5D%2C%0A%20%20%20%20%20%20%20%20%20%20%20%20%20%20%20%20%7B%0A%20%20%22bubblingMouseEvents%22%3A%20true%2C%0A%20%20%22color%22%3A%20%22blue%22%2C%0A%20%20%22dashArray%22%3A%20null%2C%0A%20%20%22dashOffset%22%3A%20null%2C%0A%20%20%22fill%22%3A%20true%2C%0A%20%20%22fillColor%22%3A%20%22blue%22%2C%0A%20%20%22fillOpacity%22%3A%200.6%2C%0A%20%20%22fillRule%22%3A%20%22evenodd%22%2C%0A%20%20%22lineCap%22%3A%20%22round%22%2C%0A%20%20%22lineJoin%22%3A%20%22round%22%2C%0A%20%20%22opacity%22%3A%201.0%2C%0A%20%20%22radius%22%3A%205%2C%0A%20%20%22stroke%22%3A%20true%2C%0A%20%20%22weight%22%3A%203%0A%7D%0A%20%20%20%20%20%20%20%20%20%20%20%20%20%20%20%20%29.addTo%28map_30729343e1e3438b86f38a5c9d56bc9f%29%3B%0A%20%20%20%20%20%20%20%20%20%20%20%20%0A%20%20%20%20%0A%20%20%20%20%20%20%20%20%20%20%20%20var%20circle_marker_03913d43e5cc400b9312367ae38a3555%20%3D%20L.circleMarker%28%0A%20%20%20%20%20%20%20%20%20%20%20%20%20%20%20%20%5B-22.91397010219763%2C-43.219828605651855%5D%2C%0A%20%20%20%20%20%20%20%20%20%20%20%20%20%20%20%20%7B%0A%20%20%22bubblingMouseEvents%22%3A%20true%2C%0A%20%20%22color%22%3A%20%22blue%22%2C%0A%20%20%22dashArray%22%3A%20null%2C%0A%20%20%22dashOffset%22%3A%20null%2C%0A%20%20%22fill%22%3A%20true%2C%0A%20%20%22fillColor%22%3A%20%22blue%22%2C%0A%20%20%22fillOpacity%22%3A%200.6%2C%0A%20%20%22fillRule%22%3A%20%22evenodd%22%2C%0A%20%20%22lineCap%22%3A%20%22round%22%2C%0A%20%20%22lineJoin%22%3A%20%22round%22%2C%0A%20%20%22opacity%22%3A%201.0%2C%0A%20%20%22radius%22%3A%205%2C%0A%20%20%22stroke%22%3A%20true%2C%0A%20%20%22weight%22%3A%203%0A%7D%0A%20%20%20%20%20%20%20%20%20%20%20%20%20%20%20%20%29.addTo%28map_30729343e1e3438b86f38a5c9d56bc9f%29%3B%0A%20%20%20%20%20%20%20%20%20%20%20%20%0A%20%20%20%20%0A%20%20%20%20%20%20%20%20%20%20%20%20var%20circle_marker_0c1de905cb3b4b999712a5b0ac05e340%20%3D%20L.circleMarker%28%0A%20%20%20%20%20%20%20%20%20%20%20%20%20%20%20%20%5B-22.90520668029785%2C-43.205631256103516%5D%2C%0A%20%20%20%20%20%20%20%20%20%20%20%20%20%20%20%20%7B%0A%20%20%22bubblingMouseEvents%22%3A%20true%2C%0A%20%20%22color%22%3A%20%22blue%22%2C%0A%20%20%22dashArray%22%3A%20null%2C%0A%20%20%22dashOffset%22%3A%20null%2C%0A%20%20%22fill%22%3A%20true%2C%0A%20%20%22fillColor%22%3A%20%22blue%22%2C%0A%20%20%22fillOpacity%22%3A%200.6%2C%0A%20%20%22fillRule%22%3A%20%22evenodd%22%2C%0A%20%20%22lineCap%22%3A%20%22round%22%2C%0A%20%20%22lineJoin%22%3A%20%22round%22%2C%0A%20%20%22opacity%22%3A%201.0%2C%0A%20%20%22radius%22%3A%205%2C%0A%20%20%22stroke%22%3A%20true%2C%0A%20%20%22weight%22%3A%203%0A%7D%0A%20%20%20%20%20%20%20%20%20%20%20%20%20%20%20%20%29.addTo%28map_30729343e1e3438b86f38a5c9d56bc9f%29%3B%0A%20%20%20%20%20%20%20%20%20%20%20%20%0A%20%20%20%20%0A%20%20%20%20%20%20%20%20%20%20%20%20var%20circle_marker_13e6d9be86d141b2b04a6fab634f7065%20%3D%20L.circleMarker%28%0A%20%20%20%20%20%20%20%20%20%20%20%20%20%20%20%20%5B-22.918052185129888%2C-43.20945187964974%5D%2C%0A%20%20%20%20%20%20%20%20%20%20%20%20%20%20%20%20%7B%0A%20%20%22bubblingMouseEvents%22%3A%20true%2C%0A%20%20%22color%22%3A%20%22blue%22%2C%0A%20%20%22dashArray%22%3A%20null%2C%0A%20%20%22dashOffset%22%3A%20null%2C%0A%20%20%22fill%22%3A%20true%2C%0A%20%20%22fillColor%22%3A%20%22blue%22%2C%0A%20%20%22fillOpacity%22%3A%200.6%2C%0A%20%20%22fillRule%22%3A%20%22evenodd%22%2C%0A%20%20%22lineCap%22%3A%20%22round%22%2C%0A%20%20%22lineJoin%22%3A%20%22round%22%2C%0A%20%20%22opacity%22%3A%201.0%2C%0A%20%20%22radius%22%3A%205%2C%0A%20%20%22stroke%22%3A%20true%2C%0A%20%20%22weight%22%3A%203%0A%7D%0A%20%20%20%20%20%20%20%20%20%20%20%20%20%20%20%20%29.addTo%28map_30729343e1e3438b86f38a5c9d56bc9f%29%3B%0A%20%20%20%20%20%20%20%20%20%20%20%20%0A%20%20%20%20%0A%20%20%20%20%20%20%20%20%20%20%20%20var%20circle_marker_0833739512ae429a8536c7a6185643b3%20%3D%20L.circleMarker%28%0A%20%20%20%20%20%20%20%20%20%20%20%20%20%20%20%20%5B-22.911674910585628%2C-43.21881539160201%5D%2C%0A%20%20%20%20%20%20%20%20%20%20%20%20%20%20%20%20%7B%0A%20%20%22bubblingMouseEvents%22%3A%20true%2C%0A%20%20%22color%22%3A%20%22blue%22%2C%0A%20%20%22dashArray%22%3A%20null%2C%0A%20%20%22dashOffset%22%3A%20null%2C%0A%20%20%22fill%22%3A%20true%2C%0A%20%20%22fillColor%22%3A%20%22blue%22%2C%0A%20%20%22fillOpacity%22%3A%200.6%2C%0A%20%20%22fillRule%22%3A%20%22evenodd%22%2C%0A%20%20%22lineCap%22%3A%20%22round%22%2C%0A%20%20%22lineJoin%22%3A%20%22round%22%2C%0A%20%20%22opacity%22%3A%201.0%2C%0A%20%20%22radius%22%3A%205%2C%0A%20%20%22stroke%22%3A%20true%2C%0A%20%20%22weight%22%3A%203%0A%7D%0A%20%20%20%20%20%20%20%20%20%20%20%20%20%20%20%20%29.addTo%28map_30729343e1e3438b86f38a5c9d56bc9f%29%3B%0A%20%20%20%20%20%20%20%20%20%20%20%20%0A%20%20%20%20%0A%20%20%20%20%20%20%20%20%20%20%20%20var%20circle_marker_30bb8567ce4649b3a49955455ad1d9ae%20%3D%20L.circleMarker%28%0A%20%20%20%20%20%20%20%20%20%20%20%20%20%20%20%20%5B-22.920200428520975%2C-43.20868647896886%5D%2C%0A%20%20%20%20%20%20%20%20%20%20%20%20%20%20%20%20%7B%0A%20%20%22bubblingMouseEvents%22%3A%20true%2C%0A%20%20%22color%22%3A%20%22blue%22%2C%0A%20%20%22dashArray%22%3A%20null%2C%0A%20%20%22dashOffset%22%3A%20null%2C%0A%20%20%22fill%22%3A%20true%2C%0A%20%20%22fillColor%22%3A%20%22blue%22%2C%0A%20%20%22fillOpacity%22%3A%200.6%2C%0A%20%20%22fillRule%22%3A%20%22evenodd%22%2C%0A%20%20%22lineCap%22%3A%20%22round%22%2C%0A%20%20%22lineJoin%22%3A%20%22round%22%2C%0A%20%20%22opacity%22%3A%201.0%2C%0A%20%20%22radius%22%3A%205%2C%0A%20%20%22stroke%22%3A%20true%2C%0A%20%20%22weight%22%3A%203%0A%7D%0A%20%20%20%20%20%20%20%20%20%20%20%20%20%20%20%20%29.addTo%28map_30729343e1e3438b86f38a5c9d56bc9f%29%3B%0A%20%20%20%20%20%20%20%20%20%20%20%20%0A%20%20%20%20%0A%20%20%20%20%20%20%20%20%20%20%20%20var%20circle_marker_823d4d3206914511b77c66bb96cfed7a%20%3D%20L.circleMarker%28%0A%20%20%20%20%20%20%20%20%20%20%20%20%20%20%20%20%5B-22.920017484779137%2C-43.21374844726976%5D%2C%0A%20%20%20%20%20%20%20%20%20%20%20%20%20%20%20%20%7B%0A%20%20%22bubblingMouseEvents%22%3A%20true%2C%0A%20%20%22color%22%3A%20%22blue%22%2C%0A%20%20%22dashArray%22%3A%20null%2C%0A%20%20%22dashOffset%22%3A%20null%2C%0A%20%20%22fill%22%3A%20true%2C%0A%20%20%22fillColor%22%3A%20%22blue%22%2C%0A%20%20%22fillOpacity%22%3A%200.6%2C%0A%20%20%22fillRule%22%3A%20%22evenodd%22%2C%0A%20%20%22lineCap%22%3A%20%22round%22%2C%0A%20%20%22lineJoin%22%3A%20%22round%22%2C%0A%20%20%22opacity%22%3A%201.0%2C%0A%20%20%22radius%22%3A%205%2C%0A%20%20%22stroke%22%3A%20true%2C%0A%20%20%22weight%22%3A%203%0A%7D%0A%20%20%20%20%20%20%20%20%20%20%20%20%20%20%20%20%29.addTo%28map_30729343e1e3438b86f38a5c9d56bc9f%29%3B%0A%20%20%20%20%20%20%20%20%20%20%20%20%0A%20%20%20%20%0A%20%20%20%20%20%20%20%20%20%20%20%20var%20circle_marker_cc2bdc5d2d05470898076fedb7b8929d%20%3D%20L.circleMarker%28%0A%20%20%20%20%20%20%20%20%20%20%20%20%20%20%20%20%5B-22.915883037835812%2C-43.21941016516487%5D%2C%0A%20%20%20%20%20%20%20%20%20%20%20%20%20%20%20%20%7B%0A%20%20%22bubblingMouseEvents%22%3A%20true%2C%0A%20%20%22color%22%3A%20%22blue%22%2C%0A%20%20%22dashArray%22%3A%20null%2C%0A%20%20%22dashOffset%22%3A%20null%2C%0A%20%20%22fill%22%3A%20true%2C%0A%20%20%22fillColor%22%3A%20%22blue%22%2C%0A%20%20%22fillOpacity%22%3A%200.6%2C%0A%20%20%22fillRule%22%3A%20%22evenodd%22%2C%0A%20%20%22lineCap%22%3A%20%22round%22%2C%0A%20%20%22lineJoin%22%3A%20%22round%22%2C%0A%20%20%22opacity%22%3A%201.0%2C%0A%20%20%22radius%22%3A%205%2C%0A%20%20%22stroke%22%3A%20true%2C%0A%20%20%22weight%22%3A%203%0A%7D%0A%20%20%20%20%20%20%20%20%20%20%20%20%20%20%20%20%29.addTo%28map_30729343e1e3438b86f38a5c9d56bc9f%29%3B%0A%20%20%20%20%20%20%20%20%20%20%20%20%0A%20%20%20%20%0A%20%20%20%20%20%20%20%20%20%20%20%20var%20circle_marker_a0c69830f7814f81ace2b0f62d28815f%20%3D%20L.circleMarker%28%0A%20%20%20%20%20%20%20%20%20%20%20%20%20%20%20%20%5B-22.915134717346998%2C-43.22077113937203%5D%2C%0A%20%20%20%20%20%20%20%20%20%20%20%20%20%20%20%20%7B%0A%20%20%22bubblingMouseEvents%22%3A%20true%2C%0A%20%20%22color%22%3A%20%22blue%22%2C%0A%20%20%22dashArray%22%3A%20null%2C%0A%20%20%22dashOffset%22%3A%20null%2C%0A%20%20%22fill%22%3A%20true%2C%0A%20%20%22fillColor%22%3A%20%22blue%22%2C%0A%20%20%22fillOpacity%22%3A%200.6%2C%0A%20%20%22fillRule%22%3A%20%22evenodd%22%2C%0A%20%20%22lineCap%22%3A%20%22round%22%2C%0A%20%20%22lineJoin%22%3A%20%22round%22%2C%0A%20%20%22opacity%22%3A%201.0%2C%0A%20%20%22radius%22%3A%205%2C%0A%20%20%22stroke%22%3A%20true%2C%0A%20%20%22weight%22%3A%203%0A%7D%0A%20%20%20%20%20%20%20%20%20%20%20%20%20%20%20%20%29.addTo%28map_30729343e1e3438b86f38a5c9d56bc9f%29%3B%0A%20%20%20%20%20%20%20%20%20%20%20%20%0A%20%20%20%20%0A%20%20%20%20%20%20%20%20%20%20%20%20var%20circle_marker_2546f8fed3e34b9e97e1f310b36d67db%20%3D%20L.circleMarker%28%0A%20%20%20%20%20%20%20%20%20%20%20%20%20%20%20%20%5B-22.91636033603943%2C-43.2186064986142%5D%2C%0A%20%20%20%20%20%20%20%20%20%20%20%20%20%20%20%20%7B%0A%20%20%22bubblingMouseEvents%22%3A%20true%2C%0A%20%20%22color%22%3A%20%22blue%22%2C%0A%20%20%22dashArray%22%3A%20null%2C%0A%20%20%22dashOffset%22%3A%20null%2C%0A%20%20%22fill%22%3A%20true%2C%0A%20%20%22fillColor%22%3A%20%22blue%22%2C%0A%20%20%22fillOpacity%22%3A%200.6%2C%0A%20%20%22fillRule%22%3A%20%22evenodd%22%2C%0A%20%20%22lineCap%22%3A%20%22round%22%2C%0A%20%20%22lineJoin%22%3A%20%22round%22%2C%0A%20%20%22opacity%22%3A%201.0%2C%0A%20%20%22radius%22%3A%205%2C%0A%20%20%22stroke%22%3A%20true%2C%0A%20%20%22weight%22%3A%203%0A%7D%0A%20%20%20%20%20%20%20%20%20%20%20%20%20%20%20%20%29.addTo%28map_30729343e1e3438b86f38a5c9d56bc9f%29%3B%0A%20%20%20%20%20%20%20%20%20%20%20%20%0A%20%20%20%20%0A%20%20%20%20%20%20%20%20%20%20%20%20var%20circle_marker_df815907c1274127a279db80f5092647%20%3D%20L.circleMarker%28%0A%20%20%20%20%20%20%20%20%20%20%20%20%20%20%20%20%5B-22.91375122646189%2C-43.223787587564914%5D%2C%0A%20%20%20%20%20%20%20%20%20%20%20%20%20%20%20%20%7B%0A%20%20%22bubblingMouseEvents%22%3A%20true%2C%0A%20%20%22color%22%3A%20%22blue%22%2C%0A%20%20%22dashArray%22%3A%20null%2C%0A%20%20%22dashOffset%22%3A%20null%2C%0A%20%20%22fill%22%3A%20true%2C%0A%20%20%22fillColor%22%3A%20%22blue%22%2C%0A%20%20%22fillOpacity%22%3A%200.6%2C%0A%20%20%22fillRule%22%3A%20%22evenodd%22%2C%0A%20%20%22lineCap%22%3A%20%22round%22%2C%0A%20%20%22lineJoin%22%3A%20%22round%22%2C%0A%20%20%22opacity%22%3A%201.0%2C%0A%20%20%22radius%22%3A%205%2C%0A%20%20%22stroke%22%3A%20true%2C%0A%20%20%22weight%22%3A%203%0A%7D%0A%20%20%20%20%20%20%20%20%20%20%20%20%20%20%20%20%29.addTo%28map_30729343e1e3438b86f38a5c9d56bc9f%29%3B%0A%20%20%20%20%20%20%20%20%20%20%20%20%0A%20%20%20%20%0A%20%20%20%20%20%20%20%20%20%20%20%20var%20circle_marker_bd5525a015bd466e94e0929e62d7bbeb%20%3D%20L.circleMarker%28%0A%20%20%20%20%20%20%20%20%20%20%20%20%20%20%20%20%5B-22.92337%2C-43.20969%5D%2C%0A%20%20%20%20%20%20%20%20%20%20%20%20%20%20%20%20%7B%0A%20%20%22bubblingMouseEvents%22%3A%20true%2C%0A%20%20%22color%22%3A%20%22blue%22%2C%0A%20%20%22dashArray%22%3A%20null%2C%0A%20%20%22dashOffset%22%3A%20null%2C%0A%20%20%22fill%22%3A%20true%2C%0A%20%20%22fillColor%22%3A%20%22blue%22%2C%0A%20%20%22fillOpacity%22%3A%200.6%2C%0A%20%20%22fillRule%22%3A%20%22evenodd%22%2C%0A%20%20%22lineCap%22%3A%20%22round%22%2C%0A%20%20%22lineJoin%22%3A%20%22round%22%2C%0A%20%20%22opacity%22%3A%201.0%2C%0A%20%20%22radius%22%3A%205%2C%0A%20%20%22stroke%22%3A%20true%2C%0A%20%20%22weight%22%3A%203%0A%7D%0A%20%20%20%20%20%20%20%20%20%20%20%20%20%20%20%20%29.addTo%28map_30729343e1e3438b86f38a5c9d56bc9f%29%3B%0A%20%20%20%20%20%20%20%20%20%20%20%20%0A%20%20%20%20%0A%20%20%20%20%20%20%20%20%20%20%20%20var%20circle_marker_a0e20f9664394f339022632fcc70922e%20%3D%20L.circleMarker%28%0A%20%20%20%20%20%20%20%20%20%20%20%20%20%20%20%20%5B-22.922770041596845%2C-43.21053457564875%5D%2C%0A%20%20%20%20%20%20%20%20%20%20%20%20%20%20%20%20%7B%0A%20%20%22bubblingMouseEvents%22%3A%20true%2C%0A%20%20%22color%22%3A%20%22blue%22%2C%0A%20%20%22dashArray%22%3A%20null%2C%0A%20%20%22dashOffset%22%3A%20null%2C%0A%20%20%22fill%22%3A%20true%2C%0A%20%20%22fillColor%22%3A%20%22blue%22%2C%0A%20%20%22fillOpacity%22%3A%200.6%2C%0A%20%20%22fillRule%22%3A%20%22evenodd%22%2C%0A%20%20%22lineCap%22%3A%20%22round%22%2C%0A%20%20%22lineJoin%22%3A%20%22round%22%2C%0A%20%20%22opacity%22%3A%201.0%2C%0A%20%20%22radius%22%3A%205%2C%0A%20%20%22stroke%22%3A%20true%2C%0A%20%20%22weight%22%3A%203%0A%7D%0A%20%20%20%20%20%20%20%20%20%20%20%20%20%20%20%20%29.addTo%28map_30729343e1e3438b86f38a5c9d56bc9f%29%3B%0A%20%20%20%20%20%20%20%20%20%20%20%20%0A%20%20%20%20%0A%20%20%20%20%20%20%20%20%20%20%20%20var%20circle_marker_72a7bf7ce4a346b288c899d04674b662%20%3D%20L.circleMarker%28%0A%20%20%20%20%20%20%20%20%20%20%20%20%20%20%20%20%5B-22.9228%2C-43.215%5D%2C%0A%20%20%20%20%20%20%20%20%20%20%20%20%20%20%20%20%7B%0A%20%20%22bubblingMouseEvents%22%3A%20true%2C%0A%20%20%22color%22%3A%20%22blue%22%2C%0A%20%20%22dashArray%22%3A%20null%2C%0A%20%20%22dashOffset%22%3A%20null%2C%0A%20%20%22fill%22%3A%20true%2C%0A%20%20%22fillColor%22%3A%20%22blue%22%2C%0A%20%20%22fillOpacity%22%3A%200.6%2C%0A%20%20%22fillRule%22%3A%20%22evenodd%22%2C%0A%20%20%22lineCap%22%3A%20%22round%22%2C%0A%20%20%22lineJoin%22%3A%20%22round%22%2C%0A%20%20%22opacity%22%3A%201.0%2C%0A%20%20%22radius%22%3A%205%2C%0A%20%20%22stroke%22%3A%20true%2C%0A%20%20%22weight%22%3A%203%0A%7D%0A%20%20%20%20%20%20%20%20%20%20%20%20%20%20%20%20%29.addTo%28map_30729343e1e3438b86f38a5c9d56bc9f%29%3B%0A%20%20%20%20%20%20%20%20%20%20%20%20%0A%20%20%20%20%0A%20%20%20%20%20%20%20%20%20%20%20%20var%20circle_marker_e3477dcff02d428f943a03e63e49e51b%20%3D%20L.circleMarker%28%0A%20%20%20%20%20%20%20%20%20%20%20%20%20%20%20%20%5B-22.92115%2C-43.21822%5D%2C%0A%20%20%20%20%20%20%20%20%20%20%20%20%20%20%20%20%7B%0A%20%20%22bubblingMouseEvents%22%3A%20true%2C%0A%20%20%22color%22%3A%20%22blue%22%2C%0A%20%20%22dashArray%22%3A%20null%2C%0A%20%20%22dashOffset%22%3A%20null%2C%0A%20%20%22fill%22%3A%20true%2C%0A%20%20%22fillColor%22%3A%20%22blue%22%2C%0A%20%20%22fillOpacity%22%3A%200.6%2C%0A%20%20%22fillRule%22%3A%20%22evenodd%22%2C%0A%20%20%22lineCap%22%3A%20%22round%22%2C%0A%20%20%22lineJoin%22%3A%20%22round%22%2C%0A%20%20%22opacity%22%3A%201.0%2C%0A%20%20%22radius%22%3A%205%2C%0A%20%20%22stroke%22%3A%20true%2C%0A%20%20%22weight%22%3A%203%0A%7D%0A%20%20%20%20%20%20%20%20%20%20%20%20%20%20%20%20%29.addTo%28map_30729343e1e3438b86f38a5c9d56bc9f%29%3B%0A%20%20%20%20%20%20%20%20%20%20%20%20%0A%20%20%20%20%0A%20%20%20%20%20%20%20%20%20%20%20%20var%20circle_marker_208fcd9b9fc2406f9346b1ffa7429498%20%3D%20L.circleMarker%28%0A%20%20%20%20%20%20%20%20%20%20%20%20%20%20%20%20%5B-22.89763832092285%2C-43.21142578125%5D%2C%0A%20%20%20%20%20%20%20%20%20%20%20%20%20%20%20%20%7B%0A%20%20%22bubblingMouseEvents%22%3A%20true%2C%0A%20%20%22color%22%3A%20%22blue%22%2C%0A%20%20%22dashArray%22%3A%20null%2C%0A%20%20%22dashOffset%22%3A%20null%2C%0A%20%20%22fill%22%3A%20true%2C%0A%20%20%22fillColor%22%3A%20%22blue%22%2C%0A%20%20%22fillOpacity%22%3A%200.6%2C%0A%20%20%22fillRule%22%3A%20%22evenodd%22%2C%0A%20%20%22lineCap%22%3A%20%22round%22%2C%0A%20%20%22lineJoin%22%3A%20%22round%22%2C%0A%20%20%22opacity%22%3A%201.0%2C%0A%20%20%22radius%22%3A%205%2C%0A%20%20%22stroke%22%3A%20true%2C%0A%20%20%22weight%22%3A%203%0A%7D%0A%20%20%20%20%20%20%20%20%20%20%20%20%20%20%20%20%29.addTo%28map_30729343e1e3438b86f38a5c9d56bc9f%29%3B%0A%20%20%20%20%20%20%20%20%20%20%20%20%0A%20%20%20%20%0A%20%20%20%20%20%20%20%20%20%20%20%20var%20circle_marker_94b0bae659ab4c099e5299f1543b513a%20%3D%20L.circleMarker%28%0A%20%20%20%20%20%20%20%20%20%20%20%20%20%20%20%20%5B-22.92266406395974%2C-43.215128526848616%5D%2C%0A%20%20%20%20%20%20%20%20%20%20%20%20%20%20%20%20%7B%0A%20%20%22bubblingMouseEvents%22%3A%20true%2C%0A%20%20%22color%22%3A%20%22blue%22%2C%0A%20%20%22dashArray%22%3A%20null%2C%0A%20%20%22dashOffset%22%3A%20null%2C%0A%20%20%22fill%22%3A%20true%2C%0A%20%20%22fillColor%22%3A%20%22blue%22%2C%0A%20%20%22fillOpacity%22%3A%200.6%2C%0A%20%20%22fillRule%22%3A%20%22evenodd%22%2C%0A%20%20%22lineCap%22%3A%20%22round%22%2C%0A%20%20%22lineJoin%22%3A%20%22round%22%2C%0A%20%20%22opacity%22%3A%201.0%2C%0A%20%20%22radius%22%3A%205%2C%0A%20%20%22stroke%22%3A%20true%2C%0A%20%20%22weight%22%3A%203%0A%7D%0A%20%20%20%20%20%20%20%20%20%20%20%20%20%20%20%20%29.addTo%28map_30729343e1e3438b86f38a5c9d56bc9f%29%3B%0A%20%20%20%20%20%20%20%20%20%20%20%20%0A%20%20%20%20%0A%20%20%20%20%20%20%20%20%20%20%20%20var%20circle_marker_4cec6634e94245d9af9463bd3db6025e%20%3D%20L.circleMarker%28%0A%20%20%20%20%20%20%20%20%20%20%20%20%20%20%20%20%5B-22.925017983860066%2C-43.209571838378906%5D%2C%0A%20%20%20%20%20%20%20%20%20%20%20%20%20%20%20%20%7B%0A%20%20%22bubblingMouseEvents%22%3A%20true%2C%0A%20%20%22color%22%3A%20%22blue%22%2C%0A%20%20%22dashArray%22%3A%20null%2C%0A%20%20%22dashOffset%22%3A%20null%2C%0A%20%20%22fill%22%3A%20true%2C%0A%20%20%22fillColor%22%3A%20%22blue%22%2C%0A%20%20%22fillOpacity%22%3A%200.6%2C%0A%20%20%22fillRule%22%3A%20%22evenodd%22%2C%0A%20%20%22lineCap%22%3A%20%22round%22%2C%0A%20%20%22lineJoin%22%3A%20%22round%22%2C%0A%20%20%22opacity%22%3A%201.0%2C%0A%20%20%22radius%22%3A%205%2C%0A%20%20%22stroke%22%3A%20true%2C%0A%20%20%22weight%22%3A%203%0A%7D%0A%20%20%20%20%20%20%20%20%20%20%20%20%20%20%20%20%29.addTo%28map_30729343e1e3438b86f38a5c9d56bc9f%29%3B%0A%20%20%20%20%20%20%20%20%20%20%20%20%0A%20%20%20%20%0A%20%20%20%20%20%20%20%20%20%20%20%20var%20circle_marker_3cd5e40676f344879cdf56e9235199ba%20%3D%20L.circleMarker%28%0A%20%20%20%20%20%20%20%20%20%20%20%20%20%20%20%20%5B-22.91243989551876%2C-43.22394719680344%5D%2C%0A%20%20%20%20%20%20%20%20%20%20%20%20%20%20%20%20%7B%0A%20%20%22bubblingMouseEvents%22%3A%20true%2C%0A%20%20%22color%22%3A%20%22blue%22%2C%0A%20%20%22dashArray%22%3A%20null%2C%0A%20%20%22dashOffset%22%3A%20null%2C%0A%20%20%22fill%22%3A%20true%2C%0A%20%20%22fillColor%22%3A%20%22blue%22%2C%0A%20%20%22fillOpacity%22%3A%200.6%2C%0A%20%20%22fillRule%22%3A%20%22evenodd%22%2C%0A%20%20%22lineCap%22%3A%20%22round%22%2C%0A%20%20%22lineJoin%22%3A%20%22round%22%2C%0A%20%20%22opacity%22%3A%201.0%2C%0A%20%20%22radius%22%3A%205%2C%0A%20%20%22stroke%22%3A%20true%2C%0A%20%20%22weight%22%3A%203%0A%7D%0A%20%20%20%20%20%20%20%20%20%20%20%20%20%20%20%20%29.addTo%28map_30729343e1e3438b86f38a5c9d56bc9f%29%3B%0A%20%20%20%20%20%20%20%20%20%20%20%20%0A%20%20%20%20%0A%20%20%20%20%20%20%20%20%20%20%20%20var%20circle_marker_7d3cf44201cc4cce97ff0834b3328890%20%3D%20L.circleMarker%28%0A%20%20%20%20%20%20%20%20%20%20%20%20%20%20%20%20%5B-22.912402379887606%2C-43.223874691422154%5D%2C%0A%20%20%20%20%20%20%20%20%20%20%20%20%20%20%20%20%7B%0A%20%20%22bubblingMouseEvents%22%3A%20true%2C%0A%20%20%22color%22%3A%20%22blue%22%2C%0A%20%20%22dashArray%22%3A%20null%2C%0A%20%20%22dashOffset%22%3A%20null%2C%0A%20%20%22fill%22%3A%20true%2C%0A%20%20%22fillColor%22%3A%20%22blue%22%2C%0A%20%20%22fillOpacity%22%3A%200.6%2C%0A%20%20%22fillRule%22%3A%20%22evenodd%22%2C%0A%20%20%22lineCap%22%3A%20%22round%22%2C%0A%20%20%22lineJoin%22%3A%20%22round%22%2C%0A%20%20%22opacity%22%3A%201.0%2C%0A%20%20%22radius%22%3A%205%2C%0A%20%20%22stroke%22%3A%20true%2C%0A%20%20%22weight%22%3A%203%0A%7D%0A%20%20%20%20%20%20%20%20%20%20%20%20%20%20%20%20%29.addTo%28map_30729343e1e3438b86f38a5c9d56bc9f%29%3B%0A%20%20%20%20%20%20%20%20%20%20%20%20%0A%20%20%20%20%0A%20%20%20%20%20%20%20%20%20%20%20%20var%20circle_marker_900f8403b18c40b287abc6a58f7e48d8%20%3D%20L.circleMarker%28%0A%20%20%20%20%20%20%20%20%20%20%20%20%20%20%20%20%5B-22.901077320832602%2C-43.222769703343936%5D%2C%0A%20%20%20%20%20%20%20%20%20%20%20%20%20%20%20%20%7B%0A%20%20%22bubblingMouseEvents%22%3A%20true%2C%0A%20%20%22color%22%3A%20%22blue%22%2C%0A%20%20%22dashArray%22%3A%20null%2C%0A%20%20%22dashOffset%22%3A%20null%2C%0A%20%20%22fill%22%3A%20true%2C%0A%20%20%22fillColor%22%3A%20%22blue%22%2C%0A%20%20%22fillOpacity%22%3A%200.6%2C%0A%20%20%22fillRule%22%3A%20%22evenodd%22%2C%0A%20%20%22lineCap%22%3A%20%22round%22%2C%0A%20%20%22lineJoin%22%3A%20%22round%22%2C%0A%20%20%22opacity%22%3A%201.0%2C%0A%20%20%22radius%22%3A%205%2C%0A%20%20%22stroke%22%3A%20true%2C%0A%20%20%22weight%22%3A%203%0A%7D%0A%20%20%20%20%20%20%20%20%20%20%20%20%20%20%20%20%29.addTo%28map_30729343e1e3438b86f38a5c9d56bc9f%29%3B%0A%20%20%20%20%20%20%20%20%20%20%20%20%0A%20%20%20%20%0A%20%20%20%20%20%20%20%20%20%20%20%20var%20circle_marker_43a591a409da4c27ba6e5f2efd2ebcf6%20%3D%20L.circleMarker%28%0A%20%20%20%20%20%20%20%20%20%20%20%20%20%20%20%20%5B-22.914938924885625%2C-43.218969638450716%5D%2C%0A%20%20%20%20%20%20%20%20%20%20%20%20%20%20%20%20%7B%0A%20%20%22bubblingMouseEvents%22%3A%20true%2C%0A%20%20%22color%22%3A%20%22blue%22%2C%0A%20%20%22dashArray%22%3A%20null%2C%0A%20%20%22dashOffset%22%3A%20null%2C%0A%20%20%22fill%22%3A%20true%2C%0A%20%20%22fillColor%22%3A%20%22blue%22%2C%0A%20%20%22fillOpacity%22%3A%200.6%2C%0A%20%20%22fillRule%22%3A%20%22evenodd%22%2C%0A%20%20%22lineCap%22%3A%20%22round%22%2C%0A%20%20%22lineJoin%22%3A%20%22round%22%2C%0A%20%20%22opacity%22%3A%201.0%2C%0A%20%20%22radius%22%3A%205%2C%0A%20%20%22stroke%22%3A%20true%2C%0A%20%20%22weight%22%3A%203%0A%7D%0A%20%20%20%20%20%20%20%20%20%20%20%20%20%20%20%20%29.addTo%28map_30729343e1e3438b86f38a5c9d56bc9f%29%3B%0A%20%20%20%20%20%20%20%20%20%20%20%20%0A%20%20%20%20%0A%20%20%20%20%20%20%20%20%20%20%20%20var%20circle_marker_7fba3f71492e47e7b00a12cff01c452f%20%3D%20L.circleMarker%28%0A%20%20%20%20%20%20%20%20%20%20%20%20%20%20%20%20%5B-22.899987269237542%2C-43.22001032152733%5D%2C%0A%20%20%20%20%20%20%20%20%20%20%20%20%20%20%20%20%7B%0A%20%20%22bubblingMouseEvents%22%3A%20true%2C%0A%20%20%22color%22%3A%20%22blue%22%2C%0A%20%20%22dashArray%22%3A%20null%2C%0A%20%20%22dashOffset%22%3A%20null%2C%0A%20%20%22fill%22%3A%20true%2C%0A%20%20%22fillColor%22%3A%20%22blue%22%2C%0A%20%20%22fillOpacity%22%3A%200.6%2C%0A%20%20%22fillRule%22%3A%20%22evenodd%22%2C%0A%20%20%22lineCap%22%3A%20%22round%22%2C%0A%20%20%22lineJoin%22%3A%20%22round%22%2C%0A%20%20%22opacity%22%3A%201.0%2C%0A%20%20%22radius%22%3A%205%2C%0A%20%20%22stroke%22%3A%20true%2C%0A%20%20%22weight%22%3A%203%0A%7D%0A%20%20%20%20%20%20%20%20%20%20%20%20%20%20%20%20%29.addTo%28map_30729343e1e3438b86f38a5c9d56bc9f%29%3B%0A%20%20%20%20%20%20%20%20%20%20%20%20%0A%20%20%20%20%0A%20%20%20%20%20%20%20%20%20%20%20%20var%20circle_marker_a4aea2df25504bddab4a935373b95138%20%3D%20L.circleMarker%28%0A%20%20%20%20%20%20%20%20%20%20%20%20%20%20%20%20%5B-22.91291084740261%2C-43.21617008346595%5D%2C%0A%20%20%20%20%20%20%20%20%20%20%20%20%20%20%20%20%7B%0A%20%20%22bubblingMouseEvents%22%3A%20true%2C%0A%20%20%22color%22%3A%20%22blue%22%2C%0A%20%20%22dashArray%22%3A%20null%2C%0A%20%20%22dashOffset%22%3A%20null%2C%0A%20%20%22fill%22%3A%20true%2C%0A%20%20%22fillColor%22%3A%20%22blue%22%2C%0A%20%20%22fillOpacity%22%3A%200.6%2C%0A%20%20%22fillRule%22%3A%20%22evenodd%22%2C%0A%20%20%22lineCap%22%3A%20%22round%22%2C%0A%20%20%22lineJoin%22%3A%20%22round%22%2C%0A%20%20%22opacity%22%3A%201.0%2C%0A%20%20%22radius%22%3A%205%2C%0A%20%20%22stroke%22%3A%20true%2C%0A%20%20%22weight%22%3A%203%0A%7D%0A%20%20%20%20%20%20%20%20%20%20%20%20%20%20%20%20%29.addTo%28map_30729343e1e3438b86f38a5c9d56bc9f%29%3B%0A%20%20%20%20%20%20%20%20%20%20%20%20%0A%20%20%20%20%0A%20%20%20%20%20%20%20%20%20%20%20%20var%20circle_marker_13d857c5f4b945dba2e5e13781ccacec%20%3D%20L.circleMarker%28%0A%20%20%20%20%20%20%20%20%20%20%20%20%20%20%20%20%5B-22.89916229248047%2C-43.22031784057617%5D%2C%0A%20%20%20%20%20%20%20%20%20%20%20%20%20%20%20%20%7B%0A%20%20%22bubblingMouseEvents%22%3A%20true%2C%0A%20%20%22color%22%3A%20%22blue%22%2C%0A%20%20%22dashArray%22%3A%20null%2C%0A%20%20%22dashOffset%22%3A%20null%2C%0A%20%20%22fill%22%3A%20true%2C%0A%20%20%22fillColor%22%3A%20%22blue%22%2C%0A%20%20%22fillOpacity%22%3A%200.6%2C%0A%20%20%22fillRule%22%3A%20%22evenodd%22%2C%0A%20%20%22lineCap%22%3A%20%22round%22%2C%0A%20%20%22lineJoin%22%3A%20%22round%22%2C%0A%20%20%22opacity%22%3A%201.0%2C%0A%20%20%22radius%22%3A%205%2C%0A%20%20%22stroke%22%3A%20true%2C%0A%20%20%22weight%22%3A%203%0A%7D%0A%20%20%20%20%20%20%20%20%20%20%20%20%20%20%20%20%29.addTo%28map_30729343e1e3438b86f38a5c9d56bc9f%29%3B%0A%20%20%20%20%20%20%20%20%20%20%20%20%0A%20%20%20%20%0A%20%20%20%20%20%20%20%20%20%20%20%20var%20circle_marker_e727108c30fc4282af8ecb494f5aff51%20%3D%20L.circleMarker%28%0A%20%20%20%20%20%20%20%20%20%20%20%20%20%20%20%20%5B-22.91362953186035%2C-43.219825744628906%5D%2C%0A%20%20%20%20%20%20%20%20%20%20%20%20%20%20%20%20%7B%0A%20%20%22bubblingMouseEvents%22%3A%20true%2C%0A%20%20%22color%22%3A%20%22blue%22%2C%0A%20%20%22dashArray%22%3A%20null%2C%0A%20%20%22dashOffset%22%3A%20null%2C%0A%20%20%22fill%22%3A%20true%2C%0A%20%20%22fillColor%22%3A%20%22blue%22%2C%0A%20%20%22fillOpacity%22%3A%200.6%2C%0A%20%20%22fillRule%22%3A%20%22evenodd%22%2C%0A%20%20%22lineCap%22%3A%20%22round%22%2C%0A%20%20%22lineJoin%22%3A%20%22round%22%2C%0A%20%20%22opacity%22%3A%201.0%2C%0A%20%20%22radius%22%3A%205%2C%0A%20%20%22stroke%22%3A%20true%2C%0A%20%20%22weight%22%3A%203%0A%7D%0A%20%20%20%20%20%20%20%20%20%20%20%20%20%20%20%20%29.addTo%28map_30729343e1e3438b86f38a5c9d56bc9f%29%3B%0A%20%20%20%20%20%20%20%20%20%20%20%20%0A%20%20%20%20%0A%20%20%20%20%20%20%20%20%20%20%20%20var%20circle_marker_b3cf5ea8ce144b55aabac9d801be328e%20%3D%20L.circleMarker%28%0A%20%20%20%20%20%20%20%20%20%20%20%20%20%20%20%20%5B-22.92298239536284%2C-43.21017265319824%5D%2C%0A%20%20%20%20%20%20%20%20%20%20%20%20%20%20%20%20%7B%0A%20%20%22bubblingMouseEvents%22%3A%20true%2C%0A%20%20%22color%22%3A%20%22blue%22%2C%0A%20%20%22dashArray%22%3A%20null%2C%0A%20%20%22dashOffset%22%3A%20null%2C%0A%20%20%22fill%22%3A%20true%2C%0A%20%20%22fillColor%22%3A%20%22blue%22%2C%0A%20%20%22fillOpacity%22%3A%200.6%2C%0A%20%20%22fillRule%22%3A%20%22evenodd%22%2C%0A%20%20%22lineCap%22%3A%20%22round%22%2C%0A%20%20%22lineJoin%22%3A%20%22round%22%2C%0A%20%20%22opacity%22%3A%201.0%2C%0A%20%20%22radius%22%3A%205%2C%0A%20%20%22stroke%22%3A%20true%2C%0A%20%20%22weight%22%3A%203%0A%7D%0A%20%20%20%20%20%20%20%20%20%20%20%20%20%20%20%20%29.addTo%28map_30729343e1e3438b86f38a5c9d56bc9f%29%3B%0A%20%20%20%20%20%20%20%20%20%20%20%20%0A%20%20%20%20%0A%20%20%20%20%20%20%20%20%20%20%20%20var%20circle_marker_271cf8c1270d4414b78394022e77f772%20%3D%20L.circleMarker%28%0A%20%20%20%20%20%20%20%20%20%20%20%20%20%20%20%20%5B-22.913789126006044%2C-43.21975378751858%5D%2C%0A%20%20%20%20%20%20%20%20%20%20%20%20%20%20%20%20%7B%0A%20%20%22bubblingMouseEvents%22%3A%20true%2C%0A%20%20%22color%22%3A%20%22blue%22%2C%0A%20%20%22dashArray%22%3A%20null%2C%0A%20%20%22dashOffset%22%3A%20null%2C%0A%20%20%22fill%22%3A%20true%2C%0A%20%20%22fillColor%22%3A%20%22blue%22%2C%0A%20%20%22fillOpacity%22%3A%200.6%2C%0A%20%20%22fillRule%22%3A%20%22evenodd%22%2C%0A%20%20%22lineCap%22%3A%20%22round%22%2C%0A%20%20%22lineJoin%22%3A%20%22round%22%2C%0A%20%20%22opacity%22%3A%201.0%2C%0A%20%20%22radius%22%3A%205%2C%0A%20%20%22stroke%22%3A%20true%2C%0A%20%20%22weight%22%3A%203%0A%7D%0A%20%20%20%20%20%20%20%20%20%20%20%20%20%20%20%20%29.addTo%28map_30729343e1e3438b86f38a5c9d56bc9f%29%3B%0A%20%20%20%20%20%20%20%20%20%20%20%20%0A%20%20%20%20%0A%20%20%20%20%20%20%20%20%20%20%20%20var%20circle_marker_b25ddca6c704421ea7b1def3be23f1d3%20%3D%20L.circleMarker%28%0A%20%20%20%20%20%20%20%20%20%20%20%20%20%20%20%20%5B-22.907541165009704%2C-43.19449972175288%5D%2C%0A%20%20%20%20%20%20%20%20%20%20%20%20%20%20%20%20%7B%0A%20%20%22bubblingMouseEvents%22%3A%20true%2C%0A%20%20%22color%22%3A%20%22blue%22%2C%0A%20%20%22dashArray%22%3A%20null%2C%0A%20%20%22dashOffset%22%3A%20null%2C%0A%20%20%22fill%22%3A%20true%2C%0A%20%20%22fillColor%22%3A%20%22blue%22%2C%0A%20%20%22fillOpacity%22%3A%200.6%2C%0A%20%20%22fillRule%22%3A%20%22evenodd%22%2C%0A%20%20%22lineCap%22%3A%20%22round%22%2C%0A%20%20%22lineJoin%22%3A%20%22round%22%2C%0A%20%20%22opacity%22%3A%201.0%2C%0A%20%20%22radius%22%3A%205%2C%0A%20%20%22stroke%22%3A%20true%2C%0A%20%20%22weight%22%3A%203%0A%7D%0A%20%20%20%20%20%20%20%20%20%20%20%20%20%20%20%20%29.addTo%28map_30729343e1e3438b86f38a5c9d56bc9f%29%3B%0A%20%20%20%20%20%20%20%20%20%20%20%20%0A%3C/script%3E onload=\"this.contentDocument.open();this.contentDocument.write(    decodeURIComponent(this.getAttribute('data-html')));this.contentDocument.close();\" allowfullscreen webkitallowfullscreen mozallowfullscreen></iframe></div></div>"
            ],
            "text/plain": [
              "<folium.folium.Map at 0x7faacccc73d0>"
            ]
          },
          "metadata": {
            "tags": []
          },
          "execution_count": 210
        }
      ]
    },
    {
      "cell_type": "code",
      "metadata": {
        "id": "y_DjNoHBXKdv"
      },
      "source": [
        ""
      ],
      "execution_count": 184,
      "outputs": []
    },
    {
      "cell_type": "markdown",
      "metadata": {
        "id": "s-14gB0Ky_tw"
      },
      "source": [
        "# Avaliando os dados: #"
      ]
    },
    {
      "cell_type": "code",
      "metadata": {
        "id": "w4XyH0474q-L",
        "outputId": "0fd7e97a-1cae-4e9a-965f-09bac5af1783",
        "colab": {
          "base_uri": "https://localhost:8080/"
        }
      },
      "source": [
        "df_school_filtered.dtypes"
      ],
      "execution_count": 212,
      "outputs": [
        {
          "output_type": "execute_result",
          "data": {
            "text/plain": [
              "name                 object\n",
              "categories           object\n",
              "address              object\n",
              "lat                 float64\n",
              "lng                 float64\n",
              "labeledLatLngs       object\n",
              "distance              int64\n",
              "postalCode           object\n",
              "cc                   object\n",
              "city                 object\n",
              "state                object\n",
              "country              object\n",
              "formattedAddress     object\n",
              "crossStreet          object\n",
              "id                   object\n",
              "dtype: object"
            ]
          },
          "metadata": {
            "tags": []
          },
          "execution_count": 212
        }
      ]
    },
    {
      "cell_type": "code",
      "metadata": {
        "colab": {
          "base_uri": "https://localhost:8080/",
          "height": 297
        },
        "id": "lvq3wDyQLkXe",
        "outputId": "4bee2aa1-f02f-4d4b-d92c-4b736c282b6f"
      },
      "source": [
        "df_school_filtered.describe()"
      ],
      "execution_count": 213,
      "outputs": [
        {
          "output_type": "execute_result",
          "data": {
            "text/html": [
              "<div>\n",
              "<style scoped>\n",
              "    .dataframe tbody tr th:only-of-type {\n",
              "        vertical-align: middle;\n",
              "    }\n",
              "\n",
              "    .dataframe tbody tr th {\n",
              "        vertical-align: top;\n",
              "    }\n",
              "\n",
              "    .dataframe thead th {\n",
              "        text-align: right;\n",
              "    }\n",
              "</style>\n",
              "<table border=\"1\" class=\"dataframe\">\n",
              "  <thead>\n",
              "    <tr style=\"text-align: right;\">\n",
              "      <th></th>\n",
              "      <th>lat</th>\n",
              "      <th>lng</th>\n",
              "      <th>distance</th>\n",
              "    </tr>\n",
              "  </thead>\n",
              "  <tbody>\n",
              "    <tr>\n",
              "      <th>count</th>\n",
              "      <td>31.000000</td>\n",
              "      <td>31.000000</td>\n",
              "      <td>31.000000</td>\n",
              "    </tr>\n",
              "    <tr>\n",
              "      <th>mean</th>\n",
              "      <td>-22.914291</td>\n",
              "      <td>-43.215961</td>\n",
              "      <td>1264.258065</td>\n",
              "    </tr>\n",
              "    <tr>\n",
              "      <th>std</th>\n",
              "      <td>0.007457</td>\n",
              "      <td>0.006476</td>\n",
              "      <td>293.431306</td>\n",
              "    </tr>\n",
              "    <tr>\n",
              "      <th>min</th>\n",
              "      <td>-22.925018</td>\n",
              "      <td>-43.223947</td>\n",
              "      <td>691.000000</td>\n",
              "    </tr>\n",
              "    <tr>\n",
              "      <th>25%</th>\n",
              "      <td>-22.920109</td>\n",
              "      <td>-43.220135</td>\n",
              "      <td>1103.000000</td>\n",
              "    </tr>\n",
              "    <tr>\n",
              "      <th>50%</th>\n",
              "      <td>-22.914815</td>\n",
              "      <td>-43.218606</td>\n",
              "      <td>1314.000000</td>\n",
              "    </tr>\n",
              "    <tr>\n",
              "      <th>75%</th>\n",
              "      <td>-22.912421</td>\n",
              "      <td>-43.210980</td>\n",
              "      <td>1498.000000</td>\n",
              "    </tr>\n",
              "    <tr>\n",
              "      <th>max</th>\n",
              "      <td>-22.897638</td>\n",
              "      <td>-43.194500</td>\n",
              "      <td>1763.000000</td>\n",
              "    </tr>\n",
              "  </tbody>\n",
              "</table>\n",
              "</div>"
            ],
            "text/plain": [
              "             lat        lng     distance\n",
              "count  31.000000  31.000000    31.000000\n",
              "mean  -22.914291 -43.215961  1264.258065\n",
              "std     0.007457   0.006476   293.431306\n",
              "min   -22.925018 -43.223947   691.000000\n",
              "25%   -22.920109 -43.220135  1103.000000\n",
              "50%   -22.914815 -43.218606  1314.000000\n",
              "75%   -22.912421 -43.210980  1498.000000\n",
              "max   -22.897638 -43.194500  1763.000000"
            ]
          },
          "metadata": {
            "tags": []
          },
          "execution_count": 213
        }
      ]
    },
    {
      "cell_type": "code",
      "metadata": {
        "id": "kXkVKRca5mbY",
        "outputId": "faf9aaa0-5b58-4ab2-961b-540f3f3a07ce",
        "colab": {
          "base_uri": "https://localhost:8080/",
          "height": 428
        }
      },
      "source": [
        "df_school_filtered.head()"
      ],
      "execution_count": 238,
      "outputs": [
        {
          "output_type": "execute_result",
          "data": {
            "text/html": [
              "<div>\n",
              "<style scoped>\n",
              "    .dataframe tbody tr th:only-of-type {\n",
              "        vertical-align: middle;\n",
              "    }\n",
              "\n",
              "    .dataframe tbody tr th {\n",
              "        vertical-align: top;\n",
              "    }\n",
              "\n",
              "    .dataframe thead th {\n",
              "        text-align: right;\n",
              "    }\n",
              "</style>\n",
              "<table border=\"1\" class=\"dataframe\">\n",
              "  <thead>\n",
              "    <tr style=\"text-align: right;\">\n",
              "      <th></th>\n",
              "      <th>name</th>\n",
              "      <th>categories</th>\n",
              "      <th>address</th>\n",
              "      <th>lat</th>\n",
              "      <th>lng</th>\n",
              "      <th>labeledLatLngs</th>\n",
              "      <th>distance</th>\n",
              "      <th>postalCode</th>\n",
              "      <th>cc</th>\n",
              "      <th>city</th>\n",
              "      <th>state</th>\n",
              "      <th>country</th>\n",
              "      <th>formattedAddress</th>\n",
              "      <th>crossStreet</th>\n",
              "      <th>id</th>\n",
              "    </tr>\n",
              "  </thead>\n",
              "  <tbody>\n",
              "    <tr>\n",
              "      <th>0</th>\n",
              "      <td>CARJ - Colégio Adventista do Rio de Janeiro</td>\n",
              "      <td>Private School</td>\n",
              "      <td>Tv. Dr. Araújo, 21</td>\n",
              "      <td>-22.914815</td>\n",
              "      <td>-43.214707</td>\n",
              "      <td>[{'label': 'display', 'lat': -22.9148148366665...</td>\n",
              "      <td>691</td>\n",
              "      <td>20270-070</td>\n",
              "      <td>BR</td>\n",
              "      <td>Rio de Janeiro</td>\n",
              "      <td>RJ</td>\n",
              "      <td>Brasil</td>\n",
              "      <td>[Tv. Dr. Araújo, 21, Rio de Janeiro, RJ, 20270...</td>\n",
              "      <td>NaN</td>\n",
              "      <td>4e60f0fb315114bf603f914f</td>\n",
              "    </tr>\n",
              "    <tr>\n",
              "      <th>1</th>\n",
              "      <td>Colégio Qi</td>\n",
              "      <td>Private School</td>\n",
              "      <td>R. Ibituruna, 37</td>\n",
              "      <td>-22.913802</td>\n",
              "      <td>-43.220259</td>\n",
              "      <td>[{'label': 'display', 'lat': -22.9138020434751...</td>\n",
              "      <td>1158</td>\n",
              "      <td>20271-021</td>\n",
              "      <td>BR</td>\n",
              "      <td>Rio de Janeiro</td>\n",
              "      <td>RJ</td>\n",
              "      <td>Brasil</td>\n",
              "      <td>[R. Ibituruna, 37, Rio de Janeiro, RJ, 20271-0...</td>\n",
              "      <td>NaN</td>\n",
              "      <td>4d30474405585941fce35b37</td>\n",
              "    </tr>\n",
              "    <tr>\n",
              "      <th>2</th>\n",
              "      <td>Colégio e Curso pH</td>\n",
              "      <td>High School</td>\n",
              "      <td>R. Prof. Gabizo, 211</td>\n",
              "      <td>-22.917880</td>\n",
              "      <td>-43.221191</td>\n",
              "      <td>[{'label': 'display', 'lat': -22.9178796014997...</td>\n",
              "      <td>1432</td>\n",
              "      <td>20271-064</td>\n",
              "      <td>BR</td>\n",
              "      <td>Rio de Janeiro</td>\n",
              "      <td>RJ</td>\n",
              "      <td>Brasil</td>\n",
              "      <td>[R. Prof. Gabizo, 211, Rio de Janeiro, RJ, 202...</td>\n",
              "      <td>NaN</td>\n",
              "      <td>4c2b56d0b34ad13a8293e9ce</td>\n",
              "    </tr>\n",
              "    <tr>\n",
              "      <th>3</th>\n",
              "      <td>Pensi Colégio e Curso</td>\n",
              "      <td>Private School</td>\n",
              "      <td>R. Ibituruna, 27</td>\n",
              "      <td>-22.913970</td>\n",
              "      <td>-43.219829</td>\n",
              "      <td>[{'label': 'display', 'lat': -22.9139701021976...</td>\n",
              "      <td>1121</td>\n",
              "      <td>20271-021</td>\n",
              "      <td>BR</td>\n",
              "      <td>Rio de Janeiro</td>\n",
              "      <td>RJ</td>\n",
              "      <td>Brasil</td>\n",
              "      <td>[R. Ibituruna, 27 (Unidade Tijuca I), Rio de J...</td>\n",
              "      <td>Unidade Tijuca I</td>\n",
              "      <td>4c7cde823e90a1cda18743be</td>\n",
              "    </tr>\n",
              "    <tr>\n",
              "      <th>4</th>\n",
              "      <td>Colegio e curso superior</td>\n",
              "      <td>University</td>\n",
              "      <td>Tijuca</td>\n",
              "      <td>-22.905207</td>\n",
              "      <td>-43.205631</td>\n",
              "      <td>[{'label': 'display', 'lat': -22.9052066802978...</td>\n",
              "      <td>751</td>\n",
              "      <td>NaN</td>\n",
              "      <td>BR</td>\n",
              "      <td>Rio de Janeiro</td>\n",
              "      <td>RJ</td>\n",
              "      <td>Brasil</td>\n",
              "      <td>[Tijuca, Rio de Janeiro, RJ, Brasil]</td>\n",
              "      <td>NaN</td>\n",
              "      <td>53e9e823498ecddee79da976</td>\n",
              "    </tr>\n",
              "  </tbody>\n",
              "</table>\n",
              "</div>"
            ],
            "text/plain": [
              "                                          name  ...                        id\n",
              "0  CARJ - Colégio Adventista do Rio de Janeiro  ...  4e60f0fb315114bf603f914f\n",
              "1                                   Colégio Qi  ...  4d30474405585941fce35b37\n",
              "2                           Colégio e Curso pH  ...  4c2b56d0b34ad13a8293e9ce\n",
              "3                        Pensi Colégio e Curso  ...  4c7cde823e90a1cda18743be\n",
              "4                     Colegio e curso superior  ...  53e9e823498ecddee79da976\n",
              "\n",
              "[5 rows x 15 columns]"
            ]
          },
          "metadata": {
            "tags": []
          },
          "execution_count": 238
        }
      ]
    },
    {
      "cell_type": "markdown",
      "metadata": {
        "id": "WeCbyfgo6pNP"
      },
      "source": [
        "# Número de nulos das colunas #"
      ]
    },
    {
      "cell_type": "code",
      "metadata": {
        "id": "TUZ24zzSzIVI",
        "outputId": "536dade8-9bb3-4103-eca9-416da24a119d",
        "colab": {
          "base_uri": "https://localhost:8080/"
        }
      },
      "source": [
        "print(\"Number of NaN values for the column city :\", df_school_filtered['city'].isnull().sum())\n",
        "print(\"Number of NaN values for the column state :\", df_school_filtered['state'].isnull().sum())\n",
        "print(\"Number of NaN values for the column crossStreet :\", df_school_filtered['crossStreet'].isnull().sum())"
      ],
      "execution_count": 232,
      "outputs": [
        {
          "output_type": "stream",
          "text": [
            "Number of NaN values for the column city : 9\n",
            "Number of NaN values for the column state : 9\n",
            "Number of NaN values for the column crossStreet : 28\n"
          ],
          "name": "stdout"
        }
      ]
    },
    {
      "cell_type": "code",
      "metadata": {
        "id": "eLbAQ8Uo5WL9"
      },
      "source": [
        "df_school_filtered['state'].replace(np.nan,\"RJ\", inplace=True)"
      ],
      "execution_count": 234,
      "outputs": []
    },
    {
      "cell_type": "code",
      "metadata": {
        "id": "wJ8rzJAr7EAU"
      },
      "source": [
        "df_school_filtered['city'].replace(np.nan,\"Rio de Janeiro\", inplace=True)"
      ],
      "execution_count": 236,
      "outputs": []
    },
    {
      "cell_type": "code",
      "metadata": {
        "id": "BH4rzTJ266-J",
        "outputId": "0d152e68-0de9-4960-84f7-c88887ed81c7",
        "colab": {
          "base_uri": "https://localhost:8080/"
        }
      },
      "source": [
        "print(\"Number of NaN values for the column state :\", df_school_filtered['state'].isnull().sum())\n",
        "print(\"Number of NaN values for the column city :\", df_school_filtered['city'].isnull().sum())"
      ],
      "execution_count": 237,
      "outputs": [
        {
          "output_type": "stream",
          "text": [
            "Number of NaN values for the column state : 0\n",
            "Number of NaN values for the column city : 0\n"
          ],
          "name": "stdout"
        }
      ]
    },
    {
      "cell_type": "code",
      "metadata": {
        "id": "XYCXMOKk7Btg",
        "outputId": "ca13320a-fa21-454a-85e0-77de5e2bb5cc",
        "colab": {
          "base_uri": "https://localhost:8080/"
        }
      },
      "source": [
        "df_school_filtered['categories'].value_counts()"
      ],
      "execution_count": 240,
      "outputs": [
        {
          "output_type": "execute_result",
          "data": {
            "text/plain": [
              "Private School                     7\n",
              "High School                        5\n",
              "School                             4\n",
              "Student Center                     2\n",
              "College Library                    1\n",
              "General College & University       1\n",
              "Middle School                      1\n",
              "University                         1\n",
              "College Lab                        1\n",
              "College Auditorium                 1\n",
              "College Academic Building          1\n",
              "College Administrative Building    1\n",
              "College Classroom                  1\n",
              "College Arts Building              1\n",
              "Library                            1\n",
              "Name: categories, dtype: int64"
            ]
          },
          "metadata": {
            "tags": []
          },
          "execution_count": 240
        }
      ]
    },
    {
      "cell_type": "code",
      "metadata": {
        "id": "0VNR2r1m9sw3"
      },
      "source": [
        ""
      ],
      "execution_count": 241,
      "outputs": []
    },
    {
      "cell_type": "code",
      "metadata": {
        "id": "zs7_VDUmD3bR"
      },
      "source": [
        ""
      ],
      "execution_count": null,
      "outputs": []
    }
  ]
}