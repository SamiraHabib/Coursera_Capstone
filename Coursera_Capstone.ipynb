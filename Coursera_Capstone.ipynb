{
  "nbformat": 4,
  "nbformat_minor": 0,
  "metadata": {
    "colab": {
      "name": "Coursera_Capstone.ipynb",
      "provenance": [],
      "authorship_tag": "ABX9TyPg1Rp5Sg3wBKqxioES29qb",
      "include_colab_link": true
    },
    "kernelspec": {
      "name": "python3",
      "display_name": "Python 3"
    },
    "language_info": {
      "name": "python"
    }
  },
  "cells": [
    {
      "cell_type": "markdown",
      "metadata": {
        "id": "view-in-github",
        "colab_type": "text"
      },
      "source": [
        "<a href=\"https://colab.research.google.com/github/SamiraHabib/Coursera_Capstone/blob/main/Coursera_Capstone.ipynb\" target=\"_parent\"><img src=\"https://colab.research.google.com/assets/colab-badge.svg\" alt=\"Open In Colab\"/></a>"
      ]
    },
    {
      "cell_type": "markdown",
      "metadata": {
        "id": "oI10tQcfu2P-"
      },
      "source": [
        "# Coursera Capstone #"
      ]
    },
    {
      "cell_type": "code",
      "metadata": {
        "id": "Ob7dUlTBLsHj"
      },
      "source": [
        "import pandas as pd \n",
        "import numpy as np \n"
      ],
      "execution_count": null,
      "outputs": []
    },
    {
      "cell_type": "code",
      "metadata": {
        "colab": {
          "base_uri": "https://localhost:8080/"
        },
        "id": "dl0oleX_MLoW",
        "outputId": "9631c899-144a-485d-b50c-cd060d0c7dde"
      },
      "source": [
        "print(\"Hello Capstone Project Course!\")"
      ],
      "execution_count": null,
      "outputs": [
        {
          "output_type": "stream",
          "text": [
            "Hello Capstone Project Course!\n"
          ],
          "name": "stdout"
        }
      ]
    },
    {
      "cell_type": "markdown",
      "metadata": {
        "id": "YPHQ2w3NV-qO"
      },
      "source": [
        "# Import necessary Libraries #"
      ]
    },
    {
      "cell_type": "code",
      "metadata": {
        "id": "XOqw-pp0MMeY",
        "colab": {
          "base_uri": "https://localhost:8080/"
        },
        "outputId": "3029d41c-f64a-4107-e005-102b93ab78aa"
      },
      "source": [
        "import requests # library to handle requests\n",
        "import pandas as pd # library for data analsysis\n",
        "import numpy as np # library to handle data in a vectorized manner\n",
        "import random # library for random number generation\n",
        "\n",
        "\n",
        "!pip install geopy\n",
        "from geopy.geocoders import Nominatim # module to convert an address into latitude and longitude values\n",
        "\n",
        "# libraries for displaying images\n",
        "from IPython.display import Image \n",
        "from IPython.core.display import HTML \n",
        "    \n",
        "# tranforming json file into a pandas dataframe library\n",
        "from pandas.io.json import json_normalize\n",
        "\n",
        "\n",
        "! pip install folium==0.5.0\n",
        "import folium # plotting library\n",
        "\n",
        "print('Folium installed')\n",
        "print('Libraries imported.')"
      ],
      "execution_count": null,
      "outputs": [
        {
          "output_type": "stream",
          "text": [
            "Requirement already satisfied: geopy in /usr/local/lib/python3.7/dist-packages (1.17.0)\n",
            "Requirement already satisfied: geographiclib<2,>=1.49 in /usr/local/lib/python3.7/dist-packages (from geopy) (1.50)\n",
            "Collecting folium==0.5.0\n",
            "\u001b[?25l  Downloading https://files.pythonhosted.org/packages/07/37/456fb3699ed23caa0011f8b90d9cad94445eddc656b601e6268090de35f5/folium-0.5.0.tar.gz (79kB)\n",
            "\u001b[K     |████████████████████████████████| 81kB 5.7MB/s \n",
            "\u001b[?25hRequirement already satisfied: branca in /usr/local/lib/python3.7/dist-packages (from folium==0.5.0) (0.4.2)\n",
            "Requirement already satisfied: jinja2 in /usr/local/lib/python3.7/dist-packages (from folium==0.5.0) (2.11.3)\n",
            "Requirement already satisfied: requests in /usr/local/lib/python3.7/dist-packages (from folium==0.5.0) (2.23.0)\n",
            "Requirement already satisfied: six in /usr/local/lib/python3.7/dist-packages (from folium==0.5.0) (1.15.0)\n",
            "Requirement already satisfied: MarkupSafe>=0.23 in /usr/local/lib/python3.7/dist-packages (from jinja2->folium==0.5.0) (1.1.1)\n",
            "Requirement already satisfied: chardet<4,>=3.0.2 in /usr/local/lib/python3.7/dist-packages (from requests->folium==0.5.0) (3.0.4)\n",
            "Requirement already satisfied: urllib3!=1.25.0,!=1.25.1,<1.26,>=1.21.1 in /usr/local/lib/python3.7/dist-packages (from requests->folium==0.5.0) (1.24.3)\n",
            "Requirement already satisfied: idna<3,>=2.5 in /usr/local/lib/python3.7/dist-packages (from requests->folium==0.5.0) (2.10)\n",
            "Requirement already satisfied: certifi>=2017.4.17 in /usr/local/lib/python3.7/dist-packages (from requests->folium==0.5.0) (2020.12.5)\n",
            "Building wheels for collected packages: folium\n",
            "  Building wheel for folium (setup.py) ... \u001b[?25l\u001b[?25hdone\n",
            "  Created wheel for folium: filename=folium-0.5.0-cp37-none-any.whl size=76240 sha256=b86752fad6877cbd91fffa2a46109304d760a5d2107ea6a72ad8303f0f05218c\n",
            "  Stored in directory: /root/.cache/pip/wheels/f8/98/ff/954791afc47740d554f0d9e5885fa09dd60c2265d42578e665\n",
            "Successfully built folium\n",
            "\u001b[31mERROR: datascience 0.10.6 has requirement folium==0.2.1, but you'll have folium 0.5.0 which is incompatible.\u001b[0m\n",
            "Installing collected packages: folium\n",
            "  Found existing installation: folium 0.8.3\n",
            "    Uninstalling folium-0.8.3:\n",
            "      Successfully uninstalled folium-0.8.3\n",
            "Successfully installed folium-0.5.0\n",
            "Folium installed\n",
            "Libraries imported.\n"
          ],
          "name": "stdout"
        }
      ]
    },
    {
      "cell_type": "markdown",
      "metadata": {
        "id": "DrlfDb9oWOd3"
      },
      "source": [
        "# Define Foursquare Credentials and Version #"
      ]
    },
    {
      "cell_type": "code",
      "metadata": {
        "id": "AaW7DAFBNMdi",
        "colab": {
          "base_uri": "https://localhost:8080/"
        },
        "outputId": "dbbac44a-5376-4f78-fd71-8842dd3348f6"
      },
      "source": [
        "CLIENT_ID = '' # your Foursquare ID\n",
        "CLIENT_SECRET = '' # your Foursquare Secret\n",
        "ACCESS_TOKEN = '' # your FourSquare Access Token\n",
        "VERSION = '20180604'\n",
        "LIMIT = 30\n",
        "print('Your credentails:')\n",
        "print('CLIENT_ID: ' + CLIENT_ID)\n",
        "print('CLIENT_SECRET:' + CLIENT_SECRET)"
      ],
      "execution_count": null,
      "outputs": [
        {
          "output_type": "stream",
          "text": [
            "Your credentails:\n",
            "CLIENT_ID: \n",
            "CLIENT_SECRET:\n"
          ],
          "name": "stdout"
        }
      ]
    },
    {
      "cell_type": "markdown",
      "metadata": {
        "id": "gn60gvxuWbYi"
      },
      "source": [
        "# Endereço do local escolhido #"
      ]
    },
    {
      "cell_type": "code",
      "metadata": {
        "id": "bICw6dNgSO05"
      },
      "source": [
        "#Exemplo - alterar\n",
        "address = '102 North End Ave, New York, NY'\n",
        "\n",
        "geolocator = Nominatim(user_agent=\"foursquare_agent\")\n",
        "location = geolocator.geocode(address)\n",
        "latitude = location.latitude\n",
        "longitude = location.longitude\n",
        "print(latitude, longitude)"
      ],
      "execution_count": null,
      "outputs": []
    },
    {
      "cell_type": "markdown",
      "metadata": {
        "id": "olNeuME9Wo2r"
      },
      "source": [
        "# Explore a location #"
      ]
    },
    {
      "cell_type": "code",
      "metadata": {
        "id": "kyVXY3TwSU8i"
      },
      "source": [
        "#Localidade exemplo, mudar\n",
        "latitude = 40.715337\n",
        "longitude = -74.008848"
      ],
      "execution_count": null,
      "outputs": []
    },
    {
      "cell_type": "markdown",
      "metadata": {
        "id": "C0VTfHIhW12b"
      },
      "source": [
        "# Define URL #"
      ]
    },
    {
      "cell_type": "code",
      "metadata": {
        "colab": {
          "base_uri": "https://localhost:8080/"
        },
        "id": "dS0eG21LSYwM",
        "outputId": "b960d152-14bf-452d-8622-80ed7a9491b5"
      },
      "source": [
        "url = 'https://api.foursquare.com/v2/venues/explore?client_id={}&client_secret={}&ll={},{}&v={}&radius={}&limit={}'.format(CLIENT_ID, CLIENT_SECRET, latitude, longitude, VERSION, radius, LIMIT)\n",
        "url\n",
        "#definir com:\n",
        "#https://api.foursquare.com/v2/venues/explore?client_id=CLIENT_ID&client_secret=CLIENT_SECRET&ll=LATITUDE,LONGITUDE&v=VERSION&limit=LIMIT"
      ],
      "execution_count": null,
      "outputs": [
        {
          "output_type": "stream",
          "text": [
            "None\n"
          ],
          "name": "stdout"
        }
      ]
    },
    {
      "cell_type": "markdown",
      "metadata": {
        "id": "9e_p6JmSXFks"
      },
      "source": [
        "# Send GET request and examine results #"
      ]
    },
    {
      "cell_type": "code",
      "metadata": {
        "id": "IZ6cFHjSTIIK"
      },
      "source": [
        "import requests"
      ],
      "execution_count": null,
      "outputs": []
    },
    {
      "cell_type": "code",
      "metadata": {
        "id": "p2-Ex5P_XK2g"
      },
      "source": [
        "results = requests.get(url).json()\n",
        "'There are {} around Ecco restaurant.'.format(len(results['response']['groups'][0]['items']))"
      ],
      "execution_count": null,
      "outputs": []
    },
    {
      "cell_type": "markdown",
      "metadata": {
        "id": "y6tLtKPMXYwG"
      },
      "source": [
        "# Get relevant part of JSON #"
      ]
    },
    {
      "cell_type": "code",
      "metadata": {
        "id": "FYtg5AF0XZhQ"
      },
      "source": [
        "items = results['response']['groups'][0]['items']\n",
        "items[0]"
      ],
      "execution_count": null,
      "outputs": []
    },
    {
      "cell_type": "markdown",
      "metadata": {
        "id": "uNv1W01GXSsP"
      },
      "source": [
        "# Process JSON and convert it to a clean dataframe #"
      ]
    },
    {
      "cell_type": "code",
      "metadata": {
        "id": "3a379--4XKt3"
      },
      "source": [
        "dataframe = json_normalize(items) # flatten JSON\n",
        "\n",
        "# filter columns\n",
        "filtered_columns = ['venue.name', 'venue.categories'] + [col for col in dataframe.columns if col.startswith('venue.location.')] + ['venue.id']\n",
        "dataframe_filtered = dataframe.loc[:, filtered_columns]\n",
        "\n",
        "# filter the category for each row\n",
        "dataframe_filtered['venue.categories'] = dataframe_filtered.apply(get_category_type, axis=1)\n",
        "\n",
        "# clean columns\n",
        "dataframe_filtered.columns = [col.split('.')[-1] for col in dataframe_filtered.columns]\n",
        "\n",
        "dataframe_filtered.head(10)"
      ],
      "execution_count": null,
      "outputs": []
    },
    {
      "cell_type": "markdown",
      "metadata": {
        "id": "gK2CZkRXXjO9"
      },
      "source": [
        "# Let's visualize these items on the map around our location #"
      ]
    },
    {
      "cell_type": "code",
      "metadata": {
        "id": "y_DjNoHBXKdv"
      },
      "source": [
        "venues_map = folium.Map(location=[latitude, longitude], zoom_start=15) # generate map centred around Ecco\n",
        "\n",
        "\n",
        "# add Ecco as a red circle mark\n",
        "folium.CircleMarker(\n",
        "    [latitude, longitude],\n",
        "    radius=10,\n",
        "    popup='Ecco',\n",
        "    fill=True,\n",
        "    color='red',\n",
        "    fill_color='red',\n",
        "    fill_opacity=0.6\n",
        "    ).add_to(venues_map)\n",
        "\n",
        "\n",
        "# add popular spots to the map as blue circle markers\n",
        "for lat, lng, label in zip(dataframe_filtered.lat, dataframe_filtered.lng, dataframe_filtered.categories):\n",
        "    folium.CircleMarker(\n",
        "        [lat, lng],\n",
        "        radius=5,\n",
        "        popup=label,\n",
        "        fill=True,\n",
        "        color='blue',\n",
        "        fill_color='blue',\n",
        "        fill_opacity=0.6\n",
        "        ).add_to(venues_map)\n",
        "\n",
        "# display map\n",
        "venues_map"
      ],
      "execution_count": null,
      "outputs": []
    }
  ]
}